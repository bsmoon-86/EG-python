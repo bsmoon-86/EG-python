{
 "cells": [
  {
   "cell_type": "code",
   "execution_count": 5,
   "metadata": {},
   "outputs": [],
   "source": [
    "from selenium import webdriver\n",
    "from bs4 import BeautifulSoup as bs\n",
    "import pymysql\n",
    "from selenium.webdriver.common.by import By "
   ]
  },
  {
   "cell_type": "code",
   "execution_count": 2,
   "metadata": {},
   "outputs": [],
   "source": [
    "driver  = webdriver.Chrome()"
   ]
  },
  {
   "cell_type": "code",
   "execution_count": 3,
   "metadata": {},
   "outputs": [],
   "source": [
    "driver.get('https://www.aladin.co.kr/home/welcome.aspx')"
   ]
  },
  {
   "cell_type": "code",
   "execution_count": 10,
   "metadata": {},
   "outputs": [],
   "source": [
    "driver.find_element(By.XPATH, '//*[contains(text(), \"이달의 주목도서\")]').click()"
   ]
  },
  {
   "cell_type": "code",
   "execution_count": 11,
   "metadata": {},
   "outputs": [],
   "source": [
    "soup = bs(driver.page_source, 'html.parser')"
   ]
  },
  {
   "cell_type": "code",
   "execution_count": 20,
   "metadata": {},
   "outputs": [],
   "source": [
    "book_list = soup.find_all(\n",
    "    'div', \n",
    "    attrs= {\n",
    "        'class' : 'event_c_item'\n",
    "    }\n",
    ")"
   ]
  },
  {
   "cell_type": "code",
   "execution_count": 26,
   "metadata": {},
   "outputs": [
    {
     "data": {
      "text/plain": [
       "<div class=\"event_c_item\"><dl><dt><a href=\"https://www.aladin.co.kr/shop/wproduct.aspx?ItemId=323558091\"><img alt=\"\" src=\"https://image.aladin.co.kr/product/32355/80/cover500/k022935461_1.jpg\" width=\"100%\"/></a></dt>\n",
       "<dd><div class=\"event_c_item_sp1\">\n",
       "<!-- 상품 간략히 보기 --> <!--display:inline;-->\n",
       "<table border=\"0\" cellpadding=\"0\" cellspacing=\"0\" class=\"\" style=\";\" summary=\"상품정보: 백년다리\" width=\"100%\">\n",
       "<tbody><tr class=\"iteminfo_v2tr2\">\n",
       "<td class=\"iteminfo_v2td1t1td2\" style=\"text-align:left\" valign=\"top\">\n",
       "<a class=\"bov\" href=\"/shop/wproduct.aspx?ItemId=323558091\" target=\"_self\" title=\"'백년다리' 상품정보보기\">백년다리</a>\n",
       "<br/><span class=\"gw\">다쓰미 이치로 지음, 김향아 옮김<br/></span>\n",
       "</td>\n",
       "</tr>\n",
       "</tbody></table>\n",
       "</div>\n",
       "<a href=\"https://www.aladin.co.kr/shop/wproduct.aspx?ItemId=323558091\"><span class=\"tit-ph\">수술 없이 무릎 통증 해방</span>무릎 수술을 잘 하기로 유명하지만 절대로 바로 수술을 해주지 않는 의사, '상식에서 벗어난' 것으로 화제가 된 일본의 정형외과 의사가 쓴 책이다. 이 책은 정형외과 교과서에는 없는 그만의 보존 치료법과 그 실천법을 중점적으로 다루고 있다. 이뿐 아니라, 우리가 무병장수하기 위해 실천하고 개선해야 할 식습관, 사고방식까지 소개하고 있다.</a> <span class=\"span_au\"> - 도란 MD</span></dd>\n",
       "</dl></div>"
      ]
     },
     "execution_count": 26,
     "metadata": {},
     "output_type": "execute_result"
    }
   ],
   "source": [
    "book_list[0]"
   ]
  },
  {
   "cell_type": "code",
   "execution_count": 25,
   "metadata": {},
   "outputs": [
    {
     "data": {
      "text/plain": [
       "'https://image.aladin.co.kr/product/32355/80/cover500/k022935461_1.jpg'"
      ]
     },
     "execution_count": 25,
     "metadata": {},
     "output_type": "execute_result"
    }
   ],
   "source": [
    "# 알라딘 이달의주목도서 책 이미지\n",
    "book_list[0].img['src']"
   ]
  },
  {
   "cell_type": "code",
   "execution_count": 31,
   "metadata": {},
   "outputs": [
    {
     "data": {
      "text/plain": [
       "'백년다리'"
      ]
     },
     "execution_count": 31,
     "metadata": {},
     "output_type": "execute_result"
    }
   ],
   "source": [
    "# 알라딘 이달의 주목도서 책 이름\n",
    "book_list[0].find(\n",
    "    'a', \n",
    "    attrs = {\n",
    "        'class' : 'bov'\n",
    "    }\n",
    ").get_text()"
   ]
  },
  {
   "cell_type": "code",
   "execution_count": 30,
   "metadata": {},
   "outputs": [
    {
     "data": {
      "text/plain": [
       "'다쓰미 이치로 지음, 김향아 옮김'"
      ]
     },
     "execution_count": 30,
     "metadata": {},
     "output_type": "execute_result"
    }
   ],
   "source": [
    "# 알라딘 이달의 주목도서 책 저자\n",
    "book_list[0].find(\n",
    "    'span', \n",
    "    attrs = {\n",
    "        'class' : 'gw'\n",
    "    }\n",
    ").get_text()"
   ]
  },
  {
   "cell_type": "code",
   "execution_count": 32,
   "metadata": {},
   "outputs": [],
   "source": [
    "book_info = []\n",
    "for i in book_list:\n",
    "    book_img = i.img['src']\n",
    "    book_name = i.find('a', attrs={'class' : 'bov'}).get_text()\n",
    "    book_writer = i.find('span', attrs={'class':'gw'}).get_text()\n",
    "    data = [book_img, book_name, book_writer]\n",
    "    book_info.append(data)"
   ]
  },
  {
   "cell_type": "code",
   "execution_count": 33,
   "metadata": {},
   "outputs": [
    {
     "data": {
      "text/plain": [
       "[['https://image.aladin.co.kr/product/32355/80/cover500/k022935461_1.jpg',\n",
       "  '백년다리',\n",
       "  '다쓰미 이치로 지음, 김향아 옮김'],\n",
       " ['https://image.aladin.co.kr/product/32420/23/cover500/k112935993_1.jpg',\n",
       "  '푸틴을 죽이는 완벽한 방법',\n",
       "  '김진명 지음'],\n",
       " ['https://image.aladin.co.kr/product/32355/15/cover500/k342935468_2.jpg',\n",
       "  '소녀 동지여 적을 쏴라',\n",
       "  '아이사카 토마 지음, 이소담 옮김'],\n",
       " ['https://image.aladin.co.kr/product/32314/50/cover500/k922834152_1.jpg',\n",
       "  '어린이를 위한 데일 카네기의 인간관계론',\n",
       "  '김지연 지음, 유영근 그림'],\n",
       " ['https://image.aladin.co.kr/product/32450/93/cover500/k912935391_1.jpg',\n",
       "  '챗GPT 영어 질문법',\n",
       "  '일간 소울영어(레바 김) 지음'],\n",
       " ['https://image.aladin.co.kr/product/32359/69/cover500/k972935568_2.jpg',\n",
       "  '네 안에 잠든 거인을 깨워라 (30주년 기념...',\n",
       "  '토니 로빈스 지음, 홍석윤 옮김'],\n",
       " ['https://image.aladin.co.kr/product/32309/15/cover500/8933872264_1.jpg',\n",
       "  '결심이 필요한 순간들',\n",
       "  '러셀 로버츠 지음, 이지연 옮김'],\n",
       " ['https://image.aladin.co.kr/product/32043/46/cover500/k682834883_2.jpg',\n",
       "  '향수가 된 식물들',\n",
       "  '장 클로드 엘레나 지음, 카린 도어링 프로저 그림, 이주영 옮김'],\n",
       " ['https://image.aladin.co.kr/product/32197/22/cover500/k472834424_3.jpg',\n",
       "  '상황과 이야기',\n",
       "  '비비언 고닉 지음, 이영아 옮김'],\n",
       " ['https://image.aladin.co.kr/product/32355/30/cover500/8954699073_1.jpg',\n",
       "  '도시와 그 불확실한 벽',\n",
       "  '무라카미 하루키 지음, 홍은주 옮김'],\n",
       " ['https://image.aladin.co.kr/product/32405/26/cover500/k072935985_1.jpg',\n",
       "  '챗GPT로 만나는 내:일',\n",
       "  '김영광.챗GPT 지음, 미드저니 그림'],\n",
       " ['https://image.aladin.co.kr/product/32405/4/cover500/k212935984_1.jpg',\n",
       "  '[세트] 문어 1~2 세트 - 전2권',\n",
       "  '초등문해력교사연구회 지음, 박영 그림'],\n",
       " ['https://image.aladin.co.kr/product/32375/68/cover500/k112935577_1.jpg',\n",
       "  '고통에 관하여',\n",
       "  '정보라 지음'],\n",
       " ['https://image.aladin.co.kr/product/32311/95/cover500/k132834056_2.jpg',\n",
       "  '일론 머스크',\n",
       "  '월터 아이작슨 지음, 안진환 옮김'],\n",
       " ['https://image.aladin.co.kr/product/32423/33/cover500/k392935098_3.jpg',\n",
       "  '어린이 마음 약국 (친필 인쇄 사인본)',\n",
       "  '이현아 지음, 소복이 그림']]"
      ]
     },
     "execution_count": 33,
     "metadata": {},
     "output_type": "execute_result"
    }
   ],
   "source": [
    "book_info"
   ]
  },
  {
   "cell_type": "code",
   "execution_count": 34,
   "metadata": {},
   "outputs": [],
   "source": [
    "_db = pymysql.connect(\n",
    "    host = 'localhost', \n",
    "    user = 'root', \n",
    "    password = 'java', \n",
    "    db = 'os', \n",
    "    port = 3306\n",
    ")\n",
    "cursor = _db.cursor(pymysql.cursors.DictCursor)\n"
   ]
  },
  {
   "cell_type": "code",
   "execution_count": 41,
   "metadata": {},
   "outputs": [],
   "source": [
    "# DB에 알라딘 테이블이 존재하면 패스 존재하지 않으면 테이블 생성\n",
    "\n",
    "sql = \"\"\"\n",
    "    CREATE \n",
    "    TABLE \n",
    "    IF NOT \n",
    "    EXISTS \n",
    "    aladin(\n",
    "        name varchar(64) primary key, \n",
    "        img TEXT, \n",
    "        writer varchar(64)\n",
    "    )\n",
    "    \n",
    "\"\"\"\n",
    "\n",
    "cursor.execute(sql)\n",
    "_db.commit()"
   ]
  },
  {
   "cell_type": "code",
   "execution_count": 44,
   "metadata": {},
   "outputs": [
    {
     "name": "stdout",
     "output_type": "stream",
     "text": [
      "['https://image.aladin.co.kr/product/32355/80/cover500/k022935461_1.jpg', '백년다리', '다쓰미 이치로 지음, 김향아 옮김']\n",
      "['https://image.aladin.co.kr/product/32420/23/cover500/k112935993_1.jpg', '푸틴을 죽이는 완벽한 방법', '김진명 지음']\n",
      "['https://image.aladin.co.kr/product/32355/15/cover500/k342935468_2.jpg', '소녀 동지여 적을 쏴라', '아이사카 토마 지음, 이소담 옮김']\n",
      "['https://image.aladin.co.kr/product/32314/50/cover500/k922834152_1.jpg', '어린이를 위한 데일 카네기의 인간관계론', '김지연 지음, 유영근 그림']\n",
      "['https://image.aladin.co.kr/product/32450/93/cover500/k912935391_1.jpg', '챗GPT 영어 질문법', '일간 소울영어(레바 김) 지음']\n",
      "['https://image.aladin.co.kr/product/32359/69/cover500/k972935568_2.jpg', '네 안에 잠든 거인을 깨워라 (30주년 기념...', '토니 로빈스 지음, 홍석윤 옮김']\n",
      "['https://image.aladin.co.kr/product/32309/15/cover500/8933872264_1.jpg', '결심이 필요한 순간들', '러셀 로버츠 지음, 이지연 옮김']\n",
      "['https://image.aladin.co.kr/product/32043/46/cover500/k682834883_2.jpg', '향수가 된 식물들', '장 클로드 엘레나 지음, 카린 도어링 프로저 그림, 이주영 옮김']\n",
      "['https://image.aladin.co.kr/product/32197/22/cover500/k472834424_3.jpg', '상황과 이야기', '비비언 고닉 지음, 이영아 옮김']\n",
      "['https://image.aladin.co.kr/product/32355/30/cover500/8954699073_1.jpg', '도시와 그 불확실한 벽', '무라카미 하루키 지음, 홍은주 옮김']\n",
      "['https://image.aladin.co.kr/product/32405/26/cover500/k072935985_1.jpg', '챗GPT로 만나는 내:일', '김영광.챗GPT 지음, 미드저니 그림']\n",
      "['https://image.aladin.co.kr/product/32405/4/cover500/k212935984_1.jpg', '[세트] 문어 1~2 세트 - 전2권', '초등문해력교사연구회 지음, 박영 그림']\n",
      "['https://image.aladin.co.kr/product/32375/68/cover500/k112935577_1.jpg', '고통에 관하여', '정보라 지음']\n",
      "['https://image.aladin.co.kr/product/32311/95/cover500/k132834056_2.jpg', '일론 머스크', '월터 아이작슨 지음, 안진환 옮김']\n",
      "['https://image.aladin.co.kr/product/32423/33/cover500/k392935098_3.jpg', '어린이 마음 약국 (친필 인쇄 사인본)', '이현아 지음, 소복이 그림']\n"
     ]
    }
   ],
   "source": [
    "sql  = \"\"\"\n",
    "    INSERT \n",
    "    INTO \n",
    "    aladin \n",
    "    (img, name, writer)\n",
    "    VALUES \n",
    "    (%s, %s, %s)\n",
    "\"\"\"\n",
    "for i in book_info:\n",
    "    print(i)\n",
    "    cursor.execute(sql, i)\n",
    "\n",
    "_db.commit()"
   ]
  },
  {
   "cell_type": "code",
   "execution_count": null,
   "metadata": {},
   "outputs": [],
   "source": []
  }
 ],
 "metadata": {
  "kernelspec": {
   "display_name": "Python 3",
   "language": "python",
   "name": "python3"
  },
  "language_info": {
   "codemirror_mode": {
    "name": "ipython",
    "version": 3
   },
   "file_extension": ".py",
   "mimetype": "text/x-python",
   "name": "python",
   "nbconvert_exporter": "python",
   "pygments_lexer": "ipython3",
   "version": "3.10.9"
  },
  "orig_nbformat": 4
 },
 "nbformat": 4,
 "nbformat_minor": 2
}
