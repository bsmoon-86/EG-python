{
 "cells": [
  {
   "cell_type": "code",
   "execution_count": null,
   "metadata": {},
   "outputs": [],
   "source": [
    "# pandas 라이브러리 로드 \n",
    "import pandas as pd"
   ]
  },
  {
   "cell_type": "markdown",
   "metadata": {},
   "source": [
    "# 경로\n",
    "1. 절대 경로\n",
    "    - 절대적인 주소 값\n",
    "    - 컴퓨터의 환경이 변하더라도 같은 위치를 지정\n",
    "    - ex) c:/users/admin/document/a.txt, https://www.google.com\n",
    "2. 상대 경로\n",
    "    - 상대적인 주소 값\n",
    "    - 환경이 변함에 따라 위치도 변화한다. \n",
    "    - ./ : 현재 파일의 경로\n",
    "    - ../ : 현재 경로에서 상위 폴더로 이동\n",
    "    - 폴더명/ : 하위폴더로 이동\n",
    "    - ex) 현재 경로에서 상위로 이동 sample_web 하위 폴더로 이동\n",
    "    - (../sample_web/app.py)"
   ]
  },
  {
   "cell_type": "code",
   "execution_count": null,
   "metadata": {},
   "outputs": [],
   "source": [
    "# csv라는 하위폴더로 이동 -> corona.csv 파일 로드 \n",
    "# 상대경로\n",
    "corona = pd.read_csv(\"./csv/corona.csv\")\n",
    "# 절대경로\n",
    "# corona2 = pd.read_csv(\"D:\\python\\pandas\\csv\\corona.csv\")"
   ]
  },
  {
   "cell_type": "code",
   "execution_count": null,
   "metadata": {},
   "outputs": [],
   "source": [
    "corona"
   ]
  },
  {
   "cell_type": "code",
   "execution_count": null,
   "metadata": {},
   "outputs": [],
   "source": [
    "# 특정한 행이나 열을 삭제 \n",
    "# drop( {기준이 되는 조건}, axis=(0('rows') | 1('columns')) , inplace = bool )\n",
    "# axis 매개변수 : 0이나 1, rows나 columns 행을 지울것인가 열을 지울것인가 지정\n",
    "# inplace 매개변수 : 기본값은 False, True로 변경하면 기준이되는 데이터프레임을 변경\n",
    "# pandas 안에 있는 DataFrame이라는 class 안에 존재하는 함수\n",
    "# corona = corona.drop( ['Unnamed: 0'], axis = 1 )\n",
    "corona.drop(['Unnamed: 0'], axis='columns', inplace=True)"
   ]
  },
  {
   "cell_type": "code",
   "execution_count": null,
   "metadata": {},
   "outputs": [],
   "source": [
    "corona.drop([0, 1, 4], axis=0)"
   ]
  },
  {
   "cell_type": "code",
   "execution_count": null,
   "metadata": {},
   "outputs": [],
   "source": [
    "# 복사본 데이터를 생성\n",
    "df = corona.copy()"
   ]
  },
  {
   "cell_type": "code",
   "execution_count": null,
   "metadata": {},
   "outputs": [],
   "source": [
    "\n",
    "df.drop([0], axis=0, inplace=True)"
   ]
  },
  {
   "cell_type": "code",
   "execution_count": null,
   "metadata": {},
   "outputs": [],
   "source": [
    "df.head(3)"
   ]
  },
  {
   "cell_type": "code",
   "execution_count": null,
   "metadata": {},
   "outputs": [],
   "source": [
    "corona.head(3)"
   ]
  },
  {
   "cell_type": "code",
   "execution_count": null,
   "metadata": {},
   "outputs": [],
   "source": [
    "# 데이터프레임에 컬럼의 이름을 변경\n",
    "\n",
    "df.columns = [\"등록일시\", '총사망자', '총확진자', '게시글번호', '기준일', '기준시간', \n",
    "              '수정일시', '누적의심자', '누적확진자']"
   ]
  },
  {
   "cell_type": "code",
   "execution_count": null,
   "metadata": {},
   "outputs": [],
   "source": [
    "df.head(3)"
   ]
  },
  {
   "cell_type": "code",
   "execution_count": null,
   "metadata": {},
   "outputs": [],
   "source": [
    "# 특정한 컬럼을 기준으로 차순 정렬\n",
    "# sort_values( {기준이 되는 컬럼}, ascending = bool, inplace = bool )\n",
    "# ascending 매개변수 : 기본값은 True(오름차순), False로 변경하면 내림차순 정렬\n",
    "\n",
    "# 등록일시를 기준으로 오름차순 정렬 데이터프레임을 변경\n",
    "df = df.sort_values(['등록일시'], ascending=True)"
   ]
  },
  {
   "cell_type": "code",
   "execution_count": null,
   "metadata": {},
   "outputs": [],
   "source": [
    "df.head(3)"
   ]
  },
  {
   "cell_type": "code",
   "execution_count": null,
   "metadata": {},
   "outputs": [],
   "source": [
    "# 인덱스를 초기화\n",
    "# reset_index(drop = bool, inplace = bool)\n",
    "# drop 매개변수 : 기본값은 False, True 변경하면 기존의 인덱스를 삭제\n",
    "df.reset_index(drop = True, inplace=True)\n",
    "# df.reset_index().drop(['index'], axis=1)"
   ]
  },
  {
   "cell_type": "code",
   "execution_count": null,
   "metadata": {},
   "outputs": [],
   "source": [
    "df.tail()"
   ]
  },
  {
   "cell_type": "code",
   "execution_count": null,
   "metadata": {},
   "outputs": [],
   "source": [
    "# 데이터프레임의 정보를 출력하는 함수\n",
    "df.info()"
   ]
  },
  {
   "cell_type": "code",
   "execution_count": null,
   "metadata": {},
   "outputs": [],
   "source": [
    "# is함수\n",
    "# 특정한 데이터가 존재하는지 확인하는 함수\n",
    "# 결측치의 유무 판단하는 함수 \n",
    "# isna() : 데이터가 결측치인 경우 True, 결측치가 아니라면 False\n",
    "# sum(axis = (0 | 1))\n",
    "# axis 매개변수 : 0, rows -> 행들의 합계, 1, columns -> 열들의 합계\n",
    "df.isna().sum()"
   ]
  },
  {
   "cell_type": "code",
   "execution_count": null,
   "metadata": {},
   "outputs": [],
   "source": [
    "# 결측치를 특정한 데이터로 치환\n",
    "# fillna({특정한 값})\n",
    "# 해당하는 값으로 결측치를 치환\n",
    "# fillna(method = ?)\n",
    "# method 매개변수 : \n",
    "#   'ffill' -> 전의 데이터의 값으로 대체\n",
    "#   'bfill' -> 후의 데이터의 값으로 대체\n",
    "# df에서 누적의심자 컬럼의 결측치를 ffill로 치환\n",
    "df['누적의심자'] = df['누적의심자'].fillna(method='ffill')"
   ]
  },
  {
   "cell_type": "code",
   "execution_count": null,
   "metadata": {},
   "outputs": [],
   "source": [
    "df.isna().sum()"
   ]
  },
  {
   "cell_type": "code",
   "execution_count": null,
   "metadata": {},
   "outputs": [],
   "source": [
    "df.head(2)"
   ]
  },
  {
   "cell_type": "code",
   "execution_count": null,
   "metadata": {},
   "outputs": [],
   "source": [
    "# 특정한 컬럼의 이름을 변경\n",
    "# rename(index = {'before' : 'after'}, columns = {'before' : 'after'}, inplace = bool)\n",
    "df.rename(columns={'누적확진자' : '누적확진율'}, inplace=True)"
   ]
  },
  {
   "cell_type": "code",
   "execution_count": null,
   "metadata": {},
   "outputs": [],
   "source": [
    "# shift(n)\n",
    "# n만큼 행을 이동한다. \n",
    "# 기본값은 1\n",
    "# 전날의 사망자의 데이터\n",
    "df['총사망자'].shift(1).fillna(0)"
   ]
  },
  {
   "cell_type": "code",
   "execution_count": null,
   "metadata": {},
   "outputs": [],
   "source": [
    "# 일일사망자 = 오늘의 총사망자 - 전날의 총사망자\n",
    "df['일일사망자'] = (df['총사망자'] - df['총사망자'].shift()).fillna(0)"
   ]
  },
  {
   "cell_type": "code",
   "execution_count": null,
   "metadata": {},
   "outputs": [],
   "source": [
    "df.head(1)"
   ]
  },
  {
   "cell_type": "code",
   "execution_count": null,
   "metadata": {},
   "outputs": [],
   "source": [
    "# 스리즈형태에서 전이나 후의 데이터와의 차이를 출력하는 함수\n",
    "# diff(n)\n",
    "# n의 기본값은 1\n",
    "# 현재 행의 데이터와 n만큼 이동한 데이터의 차이를 출력\n",
    "df['일일확진자'] = df['총확진자'].diff(1).fillna(0)"
   ]
  },
  {
   "cell_type": "code",
   "execution_count": null,
   "metadata": {},
   "outputs": [],
   "source": [
    "df.head(1)"
   ]
  },
  {
   "cell_type": "code",
   "execution_count": null,
   "metadata": {},
   "outputs": [],
   "source": [
    "dict_data = {\n",
    "    'name' : 'test', \n",
    "    'age' : 20\n",
    "}\n",
    "print(dict_data)"
   ]
  },
  {
   "cell_type": "code",
   "execution_count": null,
   "metadata": {},
   "outputs": [],
   "source": [
    "# dict 데이터에서 test만 출력하려면?\n",
    "dict_data['name']"
   ]
  },
  {
   "cell_type": "code",
   "execution_count": null,
   "metadata": {},
   "outputs": [],
   "source": [
    "# dict 데이터에서 name의 value를 test2로 변경하려면?\n",
    "dict_data['name'] = 'test2'\n",
    "dict_data"
   ]
  },
  {
   "cell_type": "code",
   "execution_count": null,
   "metadata": {},
   "outputs": [],
   "source": [
    "# dict 데이터에서 새로운 key : value를 추가한다. \n",
    "# phone : 01012345678\n",
    "dict_data['phone'] = '01012345678'\n",
    "dict_data"
   ]
  },
  {
   "cell_type": "markdown",
   "metadata": {},
   "source": [
    "# 필터\n",
    "1. loc[인덱스의 조건, 컬럼의 조건]\n",
    "    - 특정한 인덱스의 조건에 일치하는 데이터를 출력\n",
    "    - 특정한 컬럼의 조건에 일치하는 데이터를 출력\n",
    "2. iloc[인덱스의 위치, 컬럼의 위치]\n",
    "    - 특정한 인덱스의 위치에 데이터를 출력\n",
    "    - 특정한 컬럼의 위치에 데이터를 출력"
   ]
  },
  {
   "cell_type": "code",
   "execution_count": null,
   "metadata": {},
   "outputs": [],
   "source": [
    "# 복사본 생성\n",
    "df2 = df.copy()"
   ]
  },
  {
   "cell_type": "code",
   "execution_count": null,
   "metadata": {},
   "outputs": [],
   "source": [
    "df2.drop([0, 2], axis=0, inplace=True)\n",
    "df2"
   ]
  },
  {
   "cell_type": "code",
   "execution_count": null,
   "metadata": {},
   "outputs": [],
   "source": [
    "# loc[]를 사용한 필터\n",
    "df2.loc[0:6]"
   ]
  },
  {
   "cell_type": "code",
   "execution_count": null,
   "metadata": {},
   "outputs": [],
   "source": [
    "df2.loc[ : ,\"기준일\" : '일일확진자']"
   ]
  },
  {
   "cell_type": "code",
   "execution_count": null,
   "metadata": {},
   "outputs": [],
   "source": [
    "df2.loc[1:4, '기준일' : '수정일시']"
   ]
  },
  {
   "cell_type": "code",
   "execution_count": null,
   "metadata": {},
   "outputs": [],
   "source": [
    "df2.loc[df2['수정일시'].isna()]"
   ]
  },
  {
   "cell_type": "code",
   "execution_count": null,
   "metadata": {},
   "outputs": [],
   "source": [
    "df2.iloc[0:3]"
   ]
  },
  {
   "cell_type": "code",
   "execution_count": null,
   "metadata": {},
   "outputs": [],
   "source": [
    "df2.iloc[:, 1:4]"
   ]
  },
  {
   "cell_type": "code",
   "execution_count": null,
   "metadata": {},
   "outputs": [],
   "source": [
    "# 일일사망자, 일일확진자 음수인 데이터가 존재하는가?\n",
    "(df['일일확진자'] < 0).value_counts()"
   ]
  },
  {
   "cell_type": "code",
   "execution_count": null,
   "metadata": {},
   "outputs": [],
   "source": [
    "df.loc[df['일일확진자'] < 0]"
   ]
  },
  {
   "cell_type": "code",
   "execution_count": null,
   "metadata": {},
   "outputs": [],
   "source": [
    "df.loc[444:448]"
   ]
  },
  {
   "cell_type": "code",
   "execution_count": null,
   "metadata": {},
   "outputs": [],
   "source": [
    "# 2021-05-31일 데이터가 입력에 오류 확인\n",
    "# 인덱스가 445번의 등록일시 라는 데이터를 2021-05-31 00:00:00.000 로 변경\n",
    "\n",
    "# 인덱스가 445이고(인덱스의 조건) 등록일시 컬럼의(컬럼의 조건) 데이터를 출력\n",
    "df.loc[445, '등록일시'] = \"2021-05-31 00:00:00.000\""
   ]
  },
  {
   "cell_type": "code",
   "execution_count": null,
   "metadata": {},
   "outputs": [],
   "source": [
    "df.values"
   ]
  },
  {
   "cell_type": "code",
   "execution_count": null,
   "metadata": {},
   "outputs": [],
   "source": [
    "df.loc[444:448]"
   ]
  },
  {
   "cell_type": "code",
   "execution_count": null,
   "metadata": {},
   "outputs": [],
   "source": [
    "# df를 등록일시를 기준으로 오름차순 정렬\n",
    "df.sort_values(['등록일시'], ascending=True, inplace=True)\n",
    "# df의 인덱스를 초기화하고 기존의 인덱스를 제거 \n",
    "df.reset_index(drop=True, inplace=True)\n",
    "# '일일확진자', '일일사망자' 컬럼의 데이터를 수정 \n",
    "df['일일확진자'] = (df['총확진자'] - df['총확진자'].shift()).fillna(0)\n",
    "df['일일사망자'] = df['총사망자'].diff().fillna(0)\n",
    "# '일일확진자' 컬럼의 데이터의 음수가 존재하는가?\n",
    "df.loc[df['일일확진자'] < 0]"
   ]
  },
  {
   "cell_type": "code",
   "execution_count": null,
   "metadata": {},
   "outputs": [],
   "source": [
    "# 시간 데이터 -> 시계열 데이터\n",
    "# 시계열 데이터로 변환 시켜주는 함수\n",
    "# to_datetime({스리즈 형태의 데이터}, format = {데이터의 형태})\n",
    "# format 매개변수 : 인자값으로 사용하는 입력 데이터가 어떠한 형태로 구성이 되어있는가를 설명\n",
    "# pandas 내부에 있는 함수\n",
    "# %Y : 4자리의 년도수\n",
    "# %y : 2자리의 년도수\n",
    "# %m : 월\n",
    "# %d : 일\n",
    "# %H : 시\n",
    "# %M : 분\n",
    "# #S : 초\n",
    "\n",
    "# 등록일시 데이터를 시계열로 변환\n",
    "df['등록일시'] = pd.to_datetime(df['등록일시'])"
   ]
  },
  {
   "cell_type": "code",
   "execution_count": null,
   "metadata": {},
   "outputs": [],
   "source": [
    "df.info()"
   ]
  },
  {
   "cell_type": "code",
   "execution_count": null,
   "metadata": {},
   "outputs": [],
   "source": [
    "# 기준일 데이터를 시계열로 변환\n",
    "df['기준일'] = pd.to_datetime(df['기준일'], format='%Y%m%d')"
   ]
  },
  {
   "cell_type": "code",
   "execution_count": null,
   "metadata": {},
   "outputs": [],
   "source": [
    "df.info()"
   ]
  },
  {
   "cell_type": "code",
   "execution_count": null,
   "metadata": {},
   "outputs": [],
   "source": [
    "# 시간 데이터에서 요일을 추출\n",
    "df['요일'] = df['등록일시'].dt.weekday"
   ]
  },
  {
   "cell_type": "code",
   "execution_count": null,
   "metadata": {},
   "outputs": [],
   "source": [
    "df.head()"
   ]
  },
  {
   "cell_type": "code",
   "execution_count": 75,
   "metadata": {},
   "outputs": [
    {
     "data": {
      "text/plain": [
       "[1, 4, 9, 16]"
      ]
     },
     "execution_count": 75,
     "metadata": {},
     "output_type": "execute_result"
    }
   ],
   "source": [
    "# map( {함수명}, {자료형데이터} )\n",
    "\n",
    "def change(x):\n",
    "    result = x ** 2\n",
    "    return result\n",
    "\n",
    "_list = [1,2,3,4]\n",
    "# _list의 원소의 값들을 제곱 [1, 4, 9, 16]\n",
    "\n",
    "# 새로운 비어있는 리스트를 생성\n",
    "result = []\n",
    "\n",
    "# 반복문을 이용하여 함수를 호출\n",
    "for i in _list:\n",
    "    result.append( change(i) )\n",
    "\n",
    "result\n"
   ]
  },
  {
   "cell_type": "code",
   "execution_count": 77,
   "metadata": {},
   "outputs": [
    {
     "data": {
      "text/plain": [
       "[1, 4, 9, 16]"
      ]
     },
     "execution_count": 77,
     "metadata": {},
     "output_type": "execute_result"
    }
   ],
   "source": [
    "list(map(change, _list))"
   ]
  },
  {
   "cell_type": "code",
   "execution_count": 79,
   "metadata": {},
   "outputs": [],
   "source": [
    "# apply({함수명})\n",
    "# 스리즈 형태의 데이터를 일반 함수에 대입하여 새로운 스리즈 형태의 데이터를 생성\n",
    "\n",
    "# 일반 함수\n",
    "def change(x):\n",
    "    # x가 0이라면 '월'\n",
    "    if x == 0:\n",
    "        result = '월'\n",
    "    elif x == 1:\n",
    "        result = '화'\n",
    "    elif x == 2:\n",
    "        result = '수'\n",
    "    elif x == 3:\n",
    "        result = '목'\n",
    "    elif x == 4:\n",
    "        result = '금'\n",
    "    elif x == 5:\n",
    "        result = '토'\n",
    "    else :\n",
    "        result = '일'\n",
    "    return  result\n"
   ]
  },
  {
   "cell_type": "code",
   "execution_count": 80,
   "metadata": {},
   "outputs": [
    {
     "data": {
      "text/plain": [
       "0      화\n",
       "1      수\n",
       "2      목\n",
       "3      금\n",
       "4      토\n",
       "      ..\n",
       "814    금\n",
       "815    토\n",
       "816    일\n",
       "817    월\n",
       "818    화\n",
       "Name: 요일, Length: 819, dtype: object"
      ]
     },
     "execution_count": 80,
     "metadata": {},
     "output_type": "execute_result"
    }
   ],
   "source": [
    "df['요일'].apply(change)"
   ]
  },
  {
   "cell_type": "code",
   "execution_count": 81,
   "metadata": {},
   "outputs": [
    {
     "data": {
      "text/plain": [
       "[1, 9, 36, 64]"
      ]
     },
     "execution_count": 81,
     "metadata": {},
     "output_type": "execute_result"
    }
   ],
   "source": [
    "# lambda 함수\n",
    "# 함수를 선언함과 동시에 호출\n",
    "_list = [1, 3, 6, 8]\n",
    "\n",
    "list(\n",
    "    map(\n",
    "        lambda x : x ** 2, \n",
    "        _list\n",
    "    )\n",
    ")"
   ]
  },
  {
   "cell_type": "code",
   "execution_count": 83,
   "metadata": {},
   "outputs": [],
   "source": [
    "def change2(x):\n",
    "    # x를 위치값으로 생각 자료형 데이터에서 해당하는 위치의 데이터를 출력\n",
    "    week_list = ['월', '화', '수', '목', '금', '토', '일']\n",
    "\n",
    "    return week_list[x]\n",
    "\n",
    "df['요일'] = df['요일'].apply(change2)"
   ]
  },
  {
   "cell_type": "code",
   "execution_count": 84,
   "metadata": {},
   "outputs": [
    {
     "data": {
      "text/html": [
       "<div>\n",
       "<style scoped>\n",
       "    .dataframe tbody tr th:only-of-type {\n",
       "        vertical-align: middle;\n",
       "    }\n",
       "\n",
       "    .dataframe tbody tr th {\n",
       "        vertical-align: top;\n",
       "    }\n",
       "\n",
       "    .dataframe thead th {\n",
       "        text-align: right;\n",
       "    }\n",
       "</style>\n",
       "<table border=\"1\" class=\"dataframe\">\n",
       "  <thead>\n",
       "    <tr style=\"text-align: right;\">\n",
       "      <th></th>\n",
       "      <th>등록일시</th>\n",
       "      <th>총사망자</th>\n",
       "      <th>총확진자</th>\n",
       "      <th>게시글번호</th>\n",
       "      <th>기준일</th>\n",
       "      <th>기준시간</th>\n",
       "      <th>수정일시</th>\n",
       "      <th>누적의심자</th>\n",
       "      <th>누적확진율</th>\n",
       "      <th>일일사망자</th>\n",
       "      <th>일일확진자</th>\n",
       "      <th>요일</th>\n",
       "    </tr>\n",
       "  </thead>\n",
       "  <tbody>\n",
       "    <tr>\n",
       "      <th>0</th>\n",
       "      <td>2020-03-10</td>\n",
       "      <td>54</td>\n",
       "      <td>7513</td>\n",
       "      <td>51</td>\n",
       "      <td>2020-03-10</td>\n",
       "      <td>00:00</td>\n",
       "      <td>2021-10-07 10:30:51.51</td>\n",
       "      <td>210144.0</td>\n",
       "      <td>3.919308</td>\n",
       "      <td>0.0</td>\n",
       "      <td>0.0</td>\n",
       "      <td>화</td>\n",
       "    </tr>\n",
       "    <tr>\n",
       "      <th>1</th>\n",
       "      <td>2020-03-11</td>\n",
       "      <td>60</td>\n",
       "      <td>7755</td>\n",
       "      <td>52</td>\n",
       "      <td>2020-03-11</td>\n",
       "      <td>00:00</td>\n",
       "      <td>2021-10-07 10:30:51.51</td>\n",
       "      <td>222395.0</td>\n",
       "      <td>3.804175</td>\n",
       "      <td>6.0</td>\n",
       "      <td>242.0</td>\n",
       "      <td>수</td>\n",
       "    </tr>\n",
       "    <tr>\n",
       "      <th>2</th>\n",
       "      <td>2020-03-12</td>\n",
       "      <td>66</td>\n",
       "      <td>7869</td>\n",
       "      <td>53</td>\n",
       "      <td>2020-03-12</td>\n",
       "      <td>00:00</td>\n",
       "      <td>2021-10-07 10:30:51.51</td>\n",
       "      <td>234998.0</td>\n",
       "      <td>3.621744</td>\n",
       "      <td>6.0</td>\n",
       "      <td>114.0</td>\n",
       "      <td>목</td>\n",
       "    </tr>\n",
       "  </tbody>\n",
       "</table>\n",
       "</div>"
      ],
      "text/plain": [
       "        등록일시  총사망자  총확진자  게시글번호        기준일   기준시간                    수정일시  \\\n",
       "0 2020-03-10    54  7513     51 2020-03-10  00:00  2021-10-07 10:30:51.51   \n",
       "1 2020-03-11    60  7755     52 2020-03-11  00:00  2021-10-07 10:30:51.51   \n",
       "2 2020-03-12    66  7869     53 2020-03-12  00:00  2021-10-07 10:30:51.51   \n",
       "\n",
       "      누적의심자     누적확진율  일일사망자  일일확진자 요일  \n",
       "0  210144.0  3.919308    0.0    0.0  화  \n",
       "1  222395.0  3.804175    6.0  242.0  수  \n",
       "2  234998.0  3.621744    6.0  114.0  목  "
      ]
     },
     "execution_count": 84,
     "metadata": {},
     "output_type": "execute_result"
    }
   ],
   "source": [
    "df.head(3)"
   ]
  },
  {
   "cell_type": "code",
   "execution_count": null,
   "metadata": {},
   "outputs": [],
   "source": [
    "# 데이터를 그룹화하여 연산\n",
    "# 그룹화 함수\n",
    "# groupby({특정한 컬럼}).연산함수\n",
    "# 연산함수 : 최소, 최대, 합계, 평균, 표준편차, 개수\n",
    "df[ ['요일', '일일사망자', '일일확진자'] ].groupby(['요일']).mean()"
   ]
  },
  {
   "cell_type": "code",
   "execution_count": 90,
   "metadata": {},
   "outputs": [],
   "source": [
    "group_data = \\\n",
    "    df[ ['요일', '일일사망자', '일일확진자'] ].groupby(['요일']).agg(['mean', 'sum'])"
   ]
  },
  {
   "cell_type": "code",
   "execution_count": 92,
   "metadata": {},
   "outputs": [
    {
     "data": {
      "text/plain": [
       "요일\n",
       "금    32.897436\n",
       "목    34.206897\n",
       "수    28.341880\n",
       "월    24.076923\n",
       "일    28.504274\n",
       "토    32.504274\n",
       "화    26.754237\n",
       "Name: mean, dtype: float64"
      ]
     },
     "execution_count": 92,
     "metadata": {},
     "output_type": "execute_result"
    }
   ],
   "source": [
    "group_data['일일사망자']['mean']"
   ]
  },
  {
   "cell_type": "code",
   "execution_count": 93,
   "metadata": {},
   "outputs": [
    {
     "data": {
      "text/html": [
       "<div>\n",
       "<style scoped>\n",
       "    .dataframe tbody tr th:only-of-type {\n",
       "        vertical-align: middle;\n",
       "    }\n",
       "\n",
       "    .dataframe tbody tr th {\n",
       "        vertical-align: top;\n",
       "    }\n",
       "\n",
       "    .dataframe thead tr th {\n",
       "        text-align: left;\n",
       "    }\n",
       "\n",
       "    .dataframe thead tr:last-of-type th {\n",
       "        text-align: right;\n",
       "    }\n",
       "</style>\n",
       "<table border=\"1\" class=\"dataframe\">\n",
       "  <thead>\n",
       "    <tr>\n",
       "      <th></th>\n",
       "      <th colspan=\"2\" halign=\"left\">일일사망자</th>\n",
       "      <th colspan=\"2\" halign=\"left\">일일확진자</th>\n",
       "    </tr>\n",
       "    <tr>\n",
       "      <th></th>\n",
       "      <th>mean</th>\n",
       "      <th>sum</th>\n",
       "      <th>mean</th>\n",
       "      <th>sum</th>\n",
       "    </tr>\n",
       "    <tr>\n",
       "      <th>요일</th>\n",
       "      <th></th>\n",
       "      <th></th>\n",
       "      <th></th>\n",
       "      <th></th>\n",
       "    </tr>\n",
       "  </thead>\n",
       "  <tbody>\n",
       "    <tr>\n",
       "      <th>금</th>\n",
       "      <td>32.897436</td>\n",
       "      <td>3849.0</td>\n",
       "      <td>22542.854701</td>\n",
       "      <td>2637514.0</td>\n",
       "    </tr>\n",
       "    <tr>\n",
       "      <th>목</th>\n",
       "      <td>34.206897</td>\n",
       "      <td>3968.0</td>\n",
       "      <td>25776.267241</td>\n",
       "      <td>2990047.0</td>\n",
       "    </tr>\n",
       "    <tr>\n",
       "      <th>수</th>\n",
       "      <td>28.341880</td>\n",
       "      <td>3316.0</td>\n",
       "      <td>27111.102564</td>\n",
       "      <td>3171999.0</td>\n",
       "    </tr>\n",
       "    <tr>\n",
       "      <th>월</th>\n",
       "      <td>24.076923</td>\n",
       "      <td>2817.0</td>\n",
       "      <td>14739.230769</td>\n",
       "      <td>1724490.0</td>\n",
       "    </tr>\n",
       "    <tr>\n",
       "      <th>일</th>\n",
       "      <td>28.504274</td>\n",
       "      <td>3335.0</td>\n",
       "      <td>20801.384615</td>\n",
       "      <td>2433762.0</td>\n",
       "    </tr>\n",
       "    <tr>\n",
       "      <th>토</th>\n",
       "      <td>32.504274</td>\n",
       "      <td>3803.0</td>\n",
       "      <td>22555.948718</td>\n",
       "      <td>2639046.0</td>\n",
       "    </tr>\n",
       "    <tr>\n",
       "      <th>화</th>\n",
       "      <td>26.754237</td>\n",
       "      <td>3157.0</td>\n",
       "      <td>21783.652542</td>\n",
       "      <td>2570471.0</td>\n",
       "    </tr>\n",
       "  </tbody>\n",
       "</table>\n",
       "</div>"
      ],
      "text/plain": [
       "        일일사망자                 일일확진자           \n",
       "         mean     sum          mean        sum\n",
       "요일                                            \n",
       "금   32.897436  3849.0  22542.854701  2637514.0\n",
       "목   34.206897  3968.0  25776.267241  2990047.0\n",
       "수   28.341880  3316.0  27111.102564  3171999.0\n",
       "월   24.076923  2817.0  14739.230769  1724490.0\n",
       "일   28.504274  3335.0  20801.384615  2433762.0\n",
       "토   32.504274  3803.0  22555.948718  2639046.0\n",
       "화   26.754237  3157.0  21783.652542  2570471.0"
      ]
     },
     "execution_count": 93,
     "metadata": {},
     "output_type": "execute_result"
    }
   ],
   "source": [
    "group_data"
   ]
  },
  {
   "cell_type": "code",
   "execution_count": 94,
   "metadata": {},
   "outputs": [],
   "source": [
    "# 그래프로 시각화\n",
    "# matplotlib 라이브러리 로드 \n",
    "from matplotlib import pyplot as plt"
   ]
  },
  {
   "cell_type": "code",
   "execution_count": 97,
   "metadata": {},
   "outputs": [],
   "source": [
    "import platform"
   ]
  },
  {
   "cell_type": "code",
   "execution_count": 98,
   "metadata": {},
   "outputs": [],
   "source": [
    "# 한글 깨짐 방지 \n",
    "# matplot에 있는 폰트의 설정을 변경\n",
    "\n",
    "# os 가 mac 인 경우\n",
    "if platform.system() == 'Darwin':\n",
    "    plt.rc('font', family = 'AppleGothic')\n",
    "else :\n",
    "    plt.rc('font', family = 'Malgun Gothic')"
   ]
  },
  {
   "cell_type": "code",
   "execution_count": 104,
   "metadata": {},
   "outputs": [
    {
     "data": {
      "image/png": "[encoded data removed]",
      "text/plain": [
       "<Figure size 640x480 with 1 Axes>"
      ]
     },
     "metadata": {},
     "output_type": "display_data"
    }
   ],
   "source": [
    "# 바형 그래프\n",
    "# bar({x축데이터}, {y축데이터}, option)\n",
    "# 요일별 일일확진자의 평균 값을 바형 그래프 표기\n",
    "x = group_data.index\n",
    "y = group_data['일일확진자']['mean']\n",
    "\n",
    "plt.bar(x, y)\n",
    "plt.show()"
   ]
  },
  {
   "cell_type": "code",
   "execution_count": 103,
   "metadata": {},
   "outputs": [],
   "source": [
    "# 요일별로 데이터프레임의 순서를 변경\n",
    "week_order = ['월', '화', '수', '목', '금', '토', '일']\n",
    "group_data = group_data.loc[week_order]"
   ]
  },
  {
   "cell_type": "code",
   "execution_count": null,
   "metadata": {},
   "outputs": [],
   "source": [
    "# 일일확진자의 요일별 평균값 그래프와 \n",
    "# 일일사망자의 요일별 합계값 그래프를 \n",
    "# subplot을 이용하여 시각화\n",
    "\n",
    "x = group_data.index\n",
    "y1 = group_data['일일확진자']['mean']\n",
    "y2 = group_data['일일사망자']['sum']\n",
    "\n",
    "# 그래프가 그려지는 영역의 사이즈를 지정 \n",
    "plt.figure(figsize=(14, 8))\n",
    "# 영역을 이분할하여 첫번째 영역을 선택\n",
    "plt.subplot(2, 1, 1)\n",
    "# 그래프 시각화\n",
    "plt.bar(x, y1, color=['red', 'yellow'])\n",
    "# x축의 이름\n",
    "plt.xlabel('요일')\n",
    "# y축의 이름\n",
    "plt.ylabel('일일확진자 평균')\n",
    "# 그래프의 제목\n",
    "plt.title('요일별 일일 확진자')\n",
    "# 2개의 영역중 두번째 영역을 선택\n",
    "plt.subplot(2, 1, 2)\n",
    "# 그래프 시각화\n",
    "plt.bar(x, y2)\n",
    "\n",
    "plt.show()"
   ]
  },
  {
   "cell_type": "code",
   "execution_count": 111,
   "metadata": {},
   "outputs": [],
   "source": [
    "# pivot_table()\n",
    "# 그룹화 연산\n",
    "pivot_data = pd.pivot_table(\n",
    "    df, \n",
    "    index= ['요일'], \n",
    "    values= ['일일사망자', '일일확진자'], \n",
    "    aggfunc= ['mean']\n",
    ")"
   ]
  },
  {
   "cell_type": "code",
   "execution_count": 112,
   "metadata": {},
   "outputs": [
    {
     "data": {
      "text/plain": [
       "<Axes: xlabel='요일'>"
      ]
     },
     "execution_count": 112,
     "metadata": {},
     "output_type": "execute_result"
    },
    {
     "data": {
      "image/png": "[encoded data removed]",
      "text/plain": [
       "<Figure size 640x480 with 1 Axes>"
      ]
     },
     "metadata": {},
     "output_type": "display_data"
    }
   ],
   "source": [
    "# 단순하게 시각화\n",
    "pivot_data.plot.bar()"
   ]
  },
  {
   "cell_type": "code",
   "execution_count": 121,
   "metadata": {},
   "outputs": [],
   "source": [
    "# 데이터 전처리 과정이 완료된 후 해당하는 데이터프레임을 파일로 저장\n",
    "# csv 파일로 저장\n",
    "# 데이터의 형태를 csv로 변환\n",
    "# to_csv({파일이 저장되는 경로와 파일의 이름}, encoding=?)\n",
    "# encoding 매개변수 : 데이터를 어떤 엔진을 인코딩을 할것인가\n",
    "# 기본값은 UTF-8 -> 한글이 종종 깨지는 경우가 발생\n",
    "# 한글이 깨지는 경우 'CP949', 'EUC-KR'로 변경\n",
    "df.to_csv(\"./corona.csv\", encoding='cp949', index=False)"
   ]
  },
  {
   "cell_type": "code",
   "execution_count": 118,
   "metadata": {},
   "outputs": [],
   "source": [
    "df.to_excel('./corona.xlsx')"
   ]
  },
  {
   "cell_type": "markdown",
   "metadata": {},
   "source": []
  },
  {
   "cell_type": "code",
   "execution_count": null,
   "metadata": {},
   "outputs": [],
   "source": [
    "!pip install openpyxl"
   ]
  },
  {
   "cell_type": "code",
   "execution_count": 122,
   "metadata": {},
   "outputs": [
    {
     "data": {
      "text/html": [
       "<div>\n",
       "<style scoped>\n",
       "    .dataframe tbody tr th:only-of-type {\n",
       "        vertical-align: middle;\n",
       "    }\n",
       "\n",
       "    .dataframe tbody tr th {\n",
       "        vertical-align: top;\n",
       "    }\n",
       "\n",
       "    .dataframe thead th {\n",
       "        text-align: right;\n",
       "    }\n",
       "</style>\n",
       "<table border=\"1\" class=\"dataframe\">\n",
       "  <thead>\n",
       "    <tr style=\"text-align: right;\">\n",
       "      <th></th>\n",
       "      <th>등록일시</th>\n",
       "      <th>총사망자</th>\n",
       "      <th>총확진자</th>\n",
       "      <th>게시글번호</th>\n",
       "      <th>기준일</th>\n",
       "      <th>기준시간</th>\n",
       "      <th>수정일시</th>\n",
       "      <th>누적의심자</th>\n",
       "      <th>누적확진율</th>\n",
       "      <th>일일사망자</th>\n",
       "      <th>일일확진자</th>\n",
       "      <th>요일</th>\n",
       "    </tr>\n",
       "  </thead>\n",
       "  <tbody>\n",
       "    <tr>\n",
       "      <th>0</th>\n",
       "      <td>2020-03-10 00:00:00.000</td>\n",
       "      <td>54</td>\n",
       "      <td>7513</td>\n",
       "      <td>51</td>\n",
       "      <td>2020-03-10</td>\n",
       "      <td>00:00</td>\n",
       "      <td>2021-10-07 10:30:51.51</td>\n",
       "      <td>210144.0</td>\n",
       "      <td>3.919308</td>\n",
       "      <td>0.0</td>\n",
       "      <td>0.0</td>\n",
       "      <td>화</td>\n",
       "    </tr>\n",
       "    <tr>\n",
       "      <th>1</th>\n",
       "      <td>2020-03-11 00:00:00.000</td>\n",
       "      <td>60</td>\n",
       "      <td>7755</td>\n",
       "      <td>52</td>\n",
       "      <td>2020-03-11</td>\n",
       "      <td>00:00</td>\n",
       "      <td>2021-10-07 10:30:51.51</td>\n",
       "      <td>222395.0</td>\n",
       "      <td>3.804175</td>\n",
       "      <td>6.0</td>\n",
       "      <td>242.0</td>\n",
       "      <td>수</td>\n",
       "    </tr>\n",
       "    <tr>\n",
       "      <th>2</th>\n",
       "      <td>2020-03-12 00:00:00.000</td>\n",
       "      <td>66</td>\n",
       "      <td>7869</td>\n",
       "      <td>53</td>\n",
       "      <td>2020-03-12</td>\n",
       "      <td>00:00</td>\n",
       "      <td>2021-10-07 10:30:51.51</td>\n",
       "      <td>234998.0</td>\n",
       "      <td>3.621744</td>\n",
       "      <td>6.0</td>\n",
       "      <td>114.0</td>\n",
       "      <td>목</td>\n",
       "    </tr>\n",
       "    <tr>\n",
       "      <th>3</th>\n",
       "      <td>2020-03-13 00:00:00.000</td>\n",
       "      <td>67</td>\n",
       "      <td>7979</td>\n",
       "      <td>54</td>\n",
       "      <td>2020-03-13</td>\n",
       "      <td>00:00</td>\n",
       "      <td>2021-10-07 10:30:51.51</td>\n",
       "      <td>248647.0</td>\n",
       "      <td>3.458499</td>\n",
       "      <td>1.0</td>\n",
       "      <td>110.0</td>\n",
       "      <td>금</td>\n",
       "    </tr>\n",
       "    <tr>\n",
       "      <th>4</th>\n",
       "      <td>2020-03-14 00:00:00.000</td>\n",
       "      <td>72</td>\n",
       "      <td>8086</td>\n",
       "      <td>55</td>\n",
       "      <td>2020-03-14</td>\n",
       "      <td>00:00</td>\n",
       "      <td>2021-10-07 10:30:51.51</td>\n",
       "      <td>261335.0</td>\n",
       "      <td>3.318000</td>\n",
       "      <td>5.0</td>\n",
       "      <td>107.0</td>\n",
       "      <td>토</td>\n",
       "    </tr>\n",
       "    <tr>\n",
       "      <th>...</th>\n",
       "      <td>...</td>\n",
       "      <td>...</td>\n",
       "      <td>...</td>\n",
       "      <td>...</td>\n",
       "      <td>...</td>\n",
       "      <td>...</td>\n",
       "      <td>...</td>\n",
       "      <td>...</td>\n",
       "      <td>...</td>\n",
       "      <td>...</td>\n",
       "      <td>...</td>\n",
       "      <td>...</td>\n",
       "    </tr>\n",
       "    <tr>\n",
       "      <th>814</th>\n",
       "      <td>2022-06-03 09:08:18.729</td>\n",
       "      <td>24229</td>\n",
       "      <td>18141775</td>\n",
       "      <td>899</td>\n",
       "      <td>2022-06-03</td>\n",
       "      <td>00:00</td>\n",
       "      <td>2022-06-08 09:11:38.938</td>\n",
       "      <td>21518073.0</td>\n",
       "      <td>NaN</td>\n",
       "      <td>17.0</td>\n",
       "      <td>12539.0</td>\n",
       "      <td>금</td>\n",
       "    </tr>\n",
       "    <tr>\n",
       "      <th>815</th>\n",
       "      <td>2022-06-04 08:56:49.219</td>\n",
       "      <td>24238</td>\n",
       "      <td>18153814</td>\n",
       "      <td>900</td>\n",
       "      <td>2022-06-04</td>\n",
       "      <td>00:00</td>\n",
       "      <td>2022-06-08 09:11:26.303</td>\n",
       "      <td>21518073.0</td>\n",
       "      <td>NaN</td>\n",
       "      <td>9.0</td>\n",
       "      <td>12039.0</td>\n",
       "      <td>토</td>\n",
       "    </tr>\n",
       "    <tr>\n",
       "      <th>816</th>\n",
       "      <td>2022-06-05 08:53:19.426</td>\n",
       "      <td>24258</td>\n",
       "      <td>18163648</td>\n",
       "      <td>901</td>\n",
       "      <td>2022-06-05</td>\n",
       "      <td>00:00</td>\n",
       "      <td>2022-06-08 09:11:04.758</td>\n",
       "      <td>21518073.0</td>\n",
       "      <td>NaN</td>\n",
       "      <td>20.0</td>\n",
       "      <td>9834.0</td>\n",
       "      <td>일</td>\n",
       "    </tr>\n",
       "    <tr>\n",
       "      <th>817</th>\n",
       "      <td>2022-06-06 09:00:06.734</td>\n",
       "      <td>24279</td>\n",
       "      <td>18168670</td>\n",
       "      <td>902</td>\n",
       "      <td>2022-06-06</td>\n",
       "      <td>00:00</td>\n",
       "      <td>2022-06-08 09:10:50.441</td>\n",
       "      <td>21518073.0</td>\n",
       "      <td>NaN</td>\n",
       "      <td>21.0</td>\n",
       "      <td>5022.0</td>\n",
       "      <td>월</td>\n",
       "    </tr>\n",
       "    <tr>\n",
       "      <th>818</th>\n",
       "      <td>2022-06-07 09:09:00.897</td>\n",
       "      <td>24299</td>\n",
       "      <td>18174842</td>\n",
       "      <td>903</td>\n",
       "      <td>2022-06-07</td>\n",
       "      <td>00:00</td>\n",
       "      <td>2022-06-08 09:10:36.846</td>\n",
       "      <td>21518073.0</td>\n",
       "      <td>NaN</td>\n",
       "      <td>20.0</td>\n",
       "      <td>6172.0</td>\n",
       "      <td>화</td>\n",
       "    </tr>\n",
       "  </tbody>\n",
       "</table>\n",
       "<p>819 rows × 12 columns</p>\n",
       "</div>"
      ],
      "text/plain": [
       "                        등록일시   총사망자      총확진자  게시글번호         기준일   기준시간  \\\n",
       "0    2020-03-10 00:00:00.000     54      7513     51  2020-03-10  00:00   \n",
       "1    2020-03-11 00:00:00.000     60      7755     52  2020-03-11  00:00   \n",
       "2    2020-03-12 00:00:00.000     66      7869     53  2020-03-12  00:00   \n",
       "3    2020-03-13 00:00:00.000     67      7979     54  2020-03-13  00:00   \n",
       "4    2020-03-14 00:00:00.000     72      8086     55  2020-03-14  00:00   \n",
       "..                       ...    ...       ...    ...         ...    ...   \n",
       "814  2022-06-03 09:08:18.729  24229  18141775    899  2022-06-03  00:00   \n",
       "815  2022-06-04 08:56:49.219  24238  18153814    900  2022-06-04  00:00   \n",
       "816  2022-06-05 08:53:19.426  24258  18163648    901  2022-06-05  00:00   \n",
       "817  2022-06-06 09:00:06.734  24279  18168670    902  2022-06-06  00:00   \n",
       "818  2022-06-07 09:09:00.897  24299  18174842    903  2022-06-07  00:00   \n",
       "\n",
       "                        수정일시       누적의심자     누적확진율  일일사망자    일일확진자 요일  \n",
       "0     2021-10-07 10:30:51.51    210144.0  3.919308    0.0      0.0  화  \n",
       "1     2021-10-07 10:30:51.51    222395.0  3.804175    6.0    242.0  수  \n",
       "2     2021-10-07 10:30:51.51    234998.0  3.621744    6.0    114.0  목  \n",
       "3     2021-10-07 10:30:51.51    248647.0  3.458499    1.0    110.0  금  \n",
       "4     2021-10-07 10:30:51.51    261335.0  3.318000    5.0    107.0  토  \n",
       "..                       ...         ...       ...    ...      ... ..  \n",
       "814  2022-06-08 09:11:38.938  21518073.0       NaN   17.0  12539.0  금  \n",
       "815  2022-06-08 09:11:26.303  21518073.0       NaN    9.0  12039.0  토  \n",
       "816  2022-06-08 09:11:04.758  21518073.0       NaN   20.0   9834.0  일  \n",
       "817  2022-06-08 09:10:50.441  21518073.0       NaN   21.0   5022.0  월  \n",
       "818  2022-06-08 09:10:36.846  21518073.0       NaN   20.0   6172.0  화  \n",
       "\n",
       "[819 rows x 12 columns]"
      ]
     },
     "execution_count": 122,
     "metadata": {},
     "output_type": "execute_result"
    }
   ],
   "source": [
    "pd.read_csv(\"./corona.csv\", encoding='cp949')"
   ]
  }
 ],
 "metadata": {
  "kernelspec": {
   "display_name": "Python 3",
   "language": "python",
   "name": "python3"
  },
  "language_info": {
   "codemirror_mode": {
    "name": "ipython",
    "version": 3
   },
   "file_extension": ".py",
   "mimetype": "text/x-python",
   "name": "python",
   "nbconvert_exporter": "python",
   "pygments_lexer": "ipython3",
   "version": "3.10.9"
  },
  "orig_nbformat": 4
 },
 "nbformat": 4,
 "nbformat_minor": 2
}
