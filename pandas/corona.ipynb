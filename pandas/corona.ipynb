{
 "cells": [
  {
   "cell_type": "code",
   "execution_count": null,
   "metadata": {},
   "outputs": [],
   "source": [
    "# pandas 라이브러리 로드 \n",
    "import pandas as pd"
   ]
  },
  {
   "cell_type": "markdown",
   "metadata": {},
   "source": [
    "# 경로\n",
    "1. 절대 경로\n",
    "    - 절대적인 주소 값\n",
    "    - 컴퓨터의 환경이 변하더라도 같은 위치를 지정\n",
    "    - ex) c:/users/admin/document/a.txt, https://www.google.com\n",
    "2. 상대 경로\n",
    "    - 상대적인 주소 값\n",
    "    - 환경이 변함에 따라 위치도 변화한다. \n",
    "    - ./ : 현재 파일의 경로\n",
    "    - ../ : 현재 경로에서 상위 폴더로 이동\n",
    "    - 폴더명/ : 하위폴더로 이동\n",
    "    - ex) 현재 경로에서 상위로 이동 sample_web 하위 폴더로 이동\n",
    "    - (../sample_web/app.py)"
   ]
  },
  {
   "cell_type": "code",
   "execution_count": null,
   "metadata": {},
   "outputs": [],
   "source": [
    "# csv라는 하위폴더로 이동 -> corona.csv 파일 로드 \n",
    "# 상대경로\n",
    "corona = pd.read_csv(\"./csv/corona.csv\")\n",
    "# 절대경로\n",
    "corona2 = pd.read_csv(\"D:\\python\\pandas\\csv\\corona.csv\")"
   ]
  },
  {
   "cell_type": "code",
   "execution_count": null,
   "metadata": {},
   "outputs": [],
   "source": [
    "corona"
   ]
  },
  {
   "cell_type": "code",
   "execution_count": null,
   "metadata": {},
   "outputs": [],
   "source": [
    "# 특정한 행이나 열을 삭제 \n",
    "# drop( {기준이 되는 조건}, axis=(0('rows') | 1('columns')) , inplace = bool )\n",
    "# axis 매개변수 : 0이나 1, rows나 columns 행을 지울것인가 열을 지울것인가 지정\n",
    "# inplace 매개변수 : 기본값은 False, True로 변경하면 기준이되는 데이터프레임을 변경\n",
    "# pandas 안에 있는 DataFrame이라는 class 안에 존재하는 함수\n",
    "# corona = corona.drop( ['Unnamed: 0'], axis = 1 )\n",
    "corona.drop(['Unnamed: 0'], axis='columns', inplace=True)"
   ]
  },
  {
   "cell_type": "code",
   "execution_count": null,
   "metadata": {},
   "outputs": [],
   "source": [
    "corona.drop([0, 1, 4], axis=0)"
   ]
  },
  {
   "cell_type": "code",
   "execution_count": 42,
   "metadata": {},
   "outputs": [],
   "source": [
    "# 복사본 데이터를 생성\n",
    "df = corona.copy()"
   ]
  },
  {
   "cell_type": "code",
   "execution_count": 43,
   "metadata": {},
   "outputs": [],
   "source": [
    "\n",
    "df.drop([0], axis=0, inplace=True)"
   ]
  },
  {
   "cell_type": "code",
   "execution_count": 44,
   "metadata": {},
   "outputs": [
    {
     "data": {
      "text/html": [
       "<div>\n",
       "<style scoped>\n",
       "    .dataframe tbody tr th:only-of-type {\n",
       "        vertical-align: middle;\n",
       "    }\n",
       "\n",
       "    .dataframe tbody tr th {\n",
       "        vertical-align: top;\n",
       "    }\n",
       "\n",
       "    .dataframe thead th {\n",
       "        text-align: right;\n",
       "    }\n",
       "</style>\n",
       "<table border=\"1\" class=\"dataframe\">\n",
       "  <thead>\n",
       "    <tr style=\"text-align: right;\">\n",
       "      <th></th>\n",
       "      <th>createDt</th>\n",
       "      <th>deathCnt</th>\n",
       "      <th>decideCnt</th>\n",
       "      <th>seq</th>\n",
       "      <th>stateDt</th>\n",
       "      <th>stateTime</th>\n",
       "      <th>updateDt</th>\n",
       "      <th>accExamCnt</th>\n",
       "      <th>accDefRate</th>\n",
       "    </tr>\n",
       "  </thead>\n",
       "  <tbody>\n",
       "    <tr>\n",
       "      <th>1</th>\n",
       "      <td>2022-06-07 09:09:00.897</td>\n",
       "      <td>24299</td>\n",
       "      <td>18174842</td>\n",
       "      <td>903</td>\n",
       "      <td>20220607</td>\n",
       "      <td>00:00</td>\n",
       "      <td>2022-06-08 09:10:36.846</td>\n",
       "      <td>NaN</td>\n",
       "      <td>NaN</td>\n",
       "    </tr>\n",
       "    <tr>\n",
       "      <th>2</th>\n",
       "      <td>2022-06-06 09:00:06.734</td>\n",
       "      <td>24279</td>\n",
       "      <td>18168670</td>\n",
       "      <td>902</td>\n",
       "      <td>20220606</td>\n",
       "      <td>00:00</td>\n",
       "      <td>2022-06-08 09:10:50.441</td>\n",
       "      <td>NaN</td>\n",
       "      <td>NaN</td>\n",
       "    </tr>\n",
       "    <tr>\n",
       "      <th>3</th>\n",
       "      <td>2022-06-05 08:53:19.426</td>\n",
       "      <td>24258</td>\n",
       "      <td>18163648</td>\n",
       "      <td>901</td>\n",
       "      <td>20220605</td>\n",
       "      <td>00:00</td>\n",
       "      <td>2022-06-08 09:11:04.758</td>\n",
       "      <td>NaN</td>\n",
       "      <td>NaN</td>\n",
       "    </tr>\n",
       "  </tbody>\n",
       "</table>\n",
       "</div>"
      ],
      "text/plain": [
       "                  createDt  deathCnt  decideCnt  seq   stateDt stateTime  \\\n",
       "1  2022-06-07 09:09:00.897     24299   18174842  903  20220607     00:00   \n",
       "2  2022-06-06 09:00:06.734     24279   18168670  902  20220606     00:00   \n",
       "3  2022-06-05 08:53:19.426     24258   18163648  901  20220605     00:00   \n",
       "\n",
       "                  updateDt  accExamCnt  accDefRate  \n",
       "1  2022-06-08 09:10:36.846         NaN         NaN  \n",
       "2  2022-06-08 09:10:50.441         NaN         NaN  \n",
       "3  2022-06-08 09:11:04.758         NaN         NaN  "
      ]
     },
     "execution_count": 44,
     "metadata": {},
     "output_type": "execute_result"
    }
   ],
   "source": [
    "df.head(3)"
   ]
  },
  {
   "cell_type": "code",
   "execution_count": 45,
   "metadata": {},
   "outputs": [
    {
     "data": {
      "text/html": [
       "<div>\n",
       "<style scoped>\n",
       "    .dataframe tbody tr th:only-of-type {\n",
       "        vertical-align: middle;\n",
       "    }\n",
       "\n",
       "    .dataframe tbody tr th {\n",
       "        vertical-align: top;\n",
       "    }\n",
       "\n",
       "    .dataframe thead th {\n",
       "        text-align: right;\n",
       "    }\n",
       "</style>\n",
       "<table border=\"1\" class=\"dataframe\">\n",
       "  <thead>\n",
       "    <tr style=\"text-align: right;\">\n",
       "      <th></th>\n",
       "      <th>createDt</th>\n",
       "      <th>deathCnt</th>\n",
       "      <th>decideCnt</th>\n",
       "      <th>seq</th>\n",
       "      <th>stateDt</th>\n",
       "      <th>stateTime</th>\n",
       "      <th>updateDt</th>\n",
       "      <th>accExamCnt</th>\n",
       "      <th>accDefRate</th>\n",
       "    </tr>\n",
       "  </thead>\n",
       "  <tbody>\n",
       "    <tr>\n",
       "      <th>0</th>\n",
       "      <td>2022-06-08 09:09:05.982</td>\n",
       "      <td>24305</td>\n",
       "      <td>18188200</td>\n",
       "      <td>904</td>\n",
       "      <td>20220608</td>\n",
       "      <td>00:00</td>\n",
       "      <td>NaN</td>\n",
       "      <td>NaN</td>\n",
       "      <td>NaN</td>\n",
       "    </tr>\n",
       "    <tr>\n",
       "      <th>1</th>\n",
       "      <td>2022-06-07 09:09:00.897</td>\n",
       "      <td>24299</td>\n",
       "      <td>18174842</td>\n",
       "      <td>903</td>\n",
       "      <td>20220607</td>\n",
       "      <td>00:00</td>\n",
       "      <td>2022-06-08 09:10:36.846</td>\n",
       "      <td>NaN</td>\n",
       "      <td>NaN</td>\n",
       "    </tr>\n",
       "    <tr>\n",
       "      <th>2</th>\n",
       "      <td>2022-06-06 09:00:06.734</td>\n",
       "      <td>24279</td>\n",
       "      <td>18168670</td>\n",
       "      <td>902</td>\n",
       "      <td>20220606</td>\n",
       "      <td>00:00</td>\n",
       "      <td>2022-06-08 09:10:50.441</td>\n",
       "      <td>NaN</td>\n",
       "      <td>NaN</td>\n",
       "    </tr>\n",
       "  </tbody>\n",
       "</table>\n",
       "</div>"
      ],
      "text/plain": [
       "                  createDt  deathCnt  decideCnt  seq   stateDt stateTime  \\\n",
       "0  2022-06-08 09:09:05.982     24305   18188200  904  20220608     00:00   \n",
       "1  2022-06-07 09:09:00.897     24299   18174842  903  20220607     00:00   \n",
       "2  2022-06-06 09:00:06.734     24279   18168670  902  20220606     00:00   \n",
       "\n",
       "                  updateDt  accExamCnt  accDefRate  \n",
       "0                      NaN         NaN         NaN  \n",
       "1  2022-06-08 09:10:36.846         NaN         NaN  \n",
       "2  2022-06-08 09:10:50.441         NaN         NaN  "
      ]
     },
     "execution_count": 45,
     "metadata": {},
     "output_type": "execute_result"
    }
   ],
   "source": [
    "corona.head(3)"
   ]
  },
  {
   "cell_type": "code",
   "execution_count": 46,
   "metadata": {},
   "outputs": [],
   "source": [
    "# 데이터프레임에 컬럼의 이름을 변경\n",
    "\n",
    "df.columns = [\"등록일시\", '총사망자', '총확진자', '게시글번호', '기준일', '기준시간', \n",
    "              '수정일시', '누적의심자', '누적확진자']"
   ]
  },
  {
   "cell_type": "code",
   "execution_count": 47,
   "metadata": {},
   "outputs": [
    {
     "data": {
      "text/html": [
       "<div>\n",
       "<style scoped>\n",
       "    .dataframe tbody tr th:only-of-type {\n",
       "        vertical-align: middle;\n",
       "    }\n",
       "\n",
       "    .dataframe tbody tr th {\n",
       "        vertical-align: top;\n",
       "    }\n",
       "\n",
       "    .dataframe thead th {\n",
       "        text-align: right;\n",
       "    }\n",
       "</style>\n",
       "<table border=\"1\" class=\"dataframe\">\n",
       "  <thead>\n",
       "    <tr style=\"text-align: right;\">\n",
       "      <th></th>\n",
       "      <th>등록일시</th>\n",
       "      <th>총사망자</th>\n",
       "      <th>총확진자</th>\n",
       "      <th>게시글번호</th>\n",
       "      <th>기준일</th>\n",
       "      <th>기준시간</th>\n",
       "      <th>수정일시</th>\n",
       "      <th>누적의심자</th>\n",
       "      <th>누적확진자</th>\n",
       "    </tr>\n",
       "  </thead>\n",
       "  <tbody>\n",
       "    <tr>\n",
       "      <th>1</th>\n",
       "      <td>2022-06-07 09:09:00.897</td>\n",
       "      <td>24299</td>\n",
       "      <td>18174842</td>\n",
       "      <td>903</td>\n",
       "      <td>20220607</td>\n",
       "      <td>00:00</td>\n",
       "      <td>2022-06-08 09:10:36.846</td>\n",
       "      <td>NaN</td>\n",
       "      <td>NaN</td>\n",
       "    </tr>\n",
       "    <tr>\n",
       "      <th>2</th>\n",
       "      <td>2022-06-06 09:00:06.734</td>\n",
       "      <td>24279</td>\n",
       "      <td>18168670</td>\n",
       "      <td>902</td>\n",
       "      <td>20220606</td>\n",
       "      <td>00:00</td>\n",
       "      <td>2022-06-08 09:10:50.441</td>\n",
       "      <td>NaN</td>\n",
       "      <td>NaN</td>\n",
       "    </tr>\n",
       "    <tr>\n",
       "      <th>3</th>\n",
       "      <td>2022-06-05 08:53:19.426</td>\n",
       "      <td>24258</td>\n",
       "      <td>18163648</td>\n",
       "      <td>901</td>\n",
       "      <td>20220605</td>\n",
       "      <td>00:00</td>\n",
       "      <td>2022-06-08 09:11:04.758</td>\n",
       "      <td>NaN</td>\n",
       "      <td>NaN</td>\n",
       "    </tr>\n",
       "  </tbody>\n",
       "</table>\n",
       "</div>"
      ],
      "text/plain": [
       "                      등록일시   총사망자      총확진자  게시글번호       기준일   기준시간  \\\n",
       "1  2022-06-07 09:09:00.897  24299  18174842    903  20220607  00:00   \n",
       "2  2022-06-06 09:00:06.734  24279  18168670    902  20220606  00:00   \n",
       "3  2022-06-05 08:53:19.426  24258  18163648    901  20220605  00:00   \n",
       "\n",
       "                      수정일시  누적의심자  누적확진자  \n",
       "1  2022-06-08 09:10:36.846    NaN    NaN  \n",
       "2  2022-06-08 09:10:50.441    NaN    NaN  \n",
       "3  2022-06-08 09:11:04.758    NaN    NaN  "
      ]
     },
     "execution_count": 47,
     "metadata": {},
     "output_type": "execute_result"
    }
   ],
   "source": [
    "df.head(3)"
   ]
  },
  {
   "cell_type": "code",
   "execution_count": 48,
   "metadata": {},
   "outputs": [],
   "source": [
    "# 특정한 컬럼을 기준으로 차순 정렬\n",
    "# sort_values( {기준이 되는 컬럼}, ascending = bool, inplace = bool )\n",
    "# ascending 매개변수 : 기본값은 True(오름차순), False로 변경하면 내림차순 정렬\n",
    "\n",
    "# 등록일시를 기준으로 오름차순 정렬 데이터프레임을 변경\n",
    "df = df.sort_values(['등록일시'], ascending=True)"
   ]
  },
  {
   "cell_type": "code",
   "execution_count": 50,
   "metadata": {},
   "outputs": [
    {
     "data": {
      "text/html": [
       "<div>\n",
       "<style scoped>\n",
       "    .dataframe tbody tr th:only-of-type {\n",
       "        vertical-align: middle;\n",
       "    }\n",
       "\n",
       "    .dataframe tbody tr th {\n",
       "        vertical-align: top;\n",
       "    }\n",
       "\n",
       "    .dataframe thead th {\n",
       "        text-align: right;\n",
       "    }\n",
       "</style>\n",
       "<table border=\"1\" class=\"dataframe\">\n",
       "  <thead>\n",
       "    <tr style=\"text-align: right;\">\n",
       "      <th></th>\n",
       "      <th>등록일시</th>\n",
       "      <th>총사망자</th>\n",
       "      <th>총확진자</th>\n",
       "      <th>게시글번호</th>\n",
       "      <th>기준일</th>\n",
       "      <th>기준시간</th>\n",
       "      <th>수정일시</th>\n",
       "      <th>누적의심자</th>\n",
       "      <th>누적확진자</th>\n",
       "    </tr>\n",
       "  </thead>\n",
       "  <tbody>\n",
       "    <tr>\n",
       "      <th>819</th>\n",
       "      <td>2020-03-10 00:00:00.000</td>\n",
       "      <td>54</td>\n",
       "      <td>7513</td>\n",
       "      <td>51</td>\n",
       "      <td>20200310</td>\n",
       "      <td>00:00</td>\n",
       "      <td>2021-10-07 10:30:51.51</td>\n",
       "      <td>210144.0</td>\n",
       "      <td>3.919308</td>\n",
       "    </tr>\n",
       "    <tr>\n",
       "      <th>818</th>\n",
       "      <td>2020-03-11 00:00:00.000</td>\n",
       "      <td>60</td>\n",
       "      <td>7755</td>\n",
       "      <td>52</td>\n",
       "      <td>20200311</td>\n",
       "      <td>00:00</td>\n",
       "      <td>2021-10-07 10:30:51.51</td>\n",
       "      <td>222395.0</td>\n",
       "      <td>3.804175</td>\n",
       "    </tr>\n",
       "    <tr>\n",
       "      <th>817</th>\n",
       "      <td>2020-03-12 00:00:00.000</td>\n",
       "      <td>66</td>\n",
       "      <td>7869</td>\n",
       "      <td>53</td>\n",
       "      <td>20200312</td>\n",
       "      <td>00:00</td>\n",
       "      <td>2021-10-07 10:30:51.51</td>\n",
       "      <td>234998.0</td>\n",
       "      <td>3.621744</td>\n",
       "    </tr>\n",
       "  </tbody>\n",
       "</table>\n",
       "</div>"
      ],
      "text/plain": [
       "                        등록일시  총사망자  총확진자  게시글번호       기준일   기준시간  \\\n",
       "819  2020-03-10 00:00:00.000    54  7513     51  20200310  00:00   \n",
       "818  2020-03-11 00:00:00.000    60  7755     52  20200311  00:00   \n",
       "817  2020-03-12 00:00:00.000    66  7869     53  20200312  00:00   \n",
       "\n",
       "                       수정일시     누적의심자     누적확진자  \n",
       "819  2021-10-07 10:30:51.51  210144.0  3.919308  \n",
       "818  2021-10-07 10:30:51.51  222395.0  3.804175  \n",
       "817  2021-10-07 10:30:51.51  234998.0  3.621744  "
      ]
     },
     "execution_count": 50,
     "metadata": {},
     "output_type": "execute_result"
    }
   ],
   "source": [
    "df.head(3)"
   ]
  },
  {
   "cell_type": "code",
   "execution_count": 54,
   "metadata": {},
   "outputs": [],
   "source": [
    "# 인덱스를 초기화\n",
    "# reset_index(drop = bool, inplace = bool)\n",
    "# drop 매개변수 : 기본값은 False, True 변경하면 기존의 인덱스를 삭제\n",
    "df.reset_index(drop = True, inplace=True)\n",
    "# df.reset_index().drop(['index'], axis=1)"
   ]
  },
  {
   "cell_type": "code",
   "execution_count": 55,
   "metadata": {},
   "outputs": [
    {
     "data": {
      "text/html": [
       "<div>\n",
       "<style scoped>\n",
       "    .dataframe tbody tr th:only-of-type {\n",
       "        vertical-align: middle;\n",
       "    }\n",
       "\n",
       "    .dataframe tbody tr th {\n",
       "        vertical-align: top;\n",
       "    }\n",
       "\n",
       "    .dataframe thead th {\n",
       "        text-align: right;\n",
       "    }\n",
       "</style>\n",
       "<table border=\"1\" class=\"dataframe\">\n",
       "  <thead>\n",
       "    <tr style=\"text-align: right;\">\n",
       "      <th></th>\n",
       "      <th>등록일시</th>\n",
       "      <th>총사망자</th>\n",
       "      <th>총확진자</th>\n",
       "      <th>게시글번호</th>\n",
       "      <th>기준일</th>\n",
       "      <th>기준시간</th>\n",
       "      <th>수정일시</th>\n",
       "      <th>누적의심자</th>\n",
       "      <th>누적확진자</th>\n",
       "    </tr>\n",
       "  </thead>\n",
       "  <tbody>\n",
       "    <tr>\n",
       "      <th>814</th>\n",
       "      <td>2022-06-03 09:08:18.729</td>\n",
       "      <td>24229</td>\n",
       "      <td>18141775</td>\n",
       "      <td>899</td>\n",
       "      <td>20220603</td>\n",
       "      <td>00:00</td>\n",
       "      <td>2022-06-08 09:11:38.938</td>\n",
       "      <td>NaN</td>\n",
       "      <td>NaN</td>\n",
       "    </tr>\n",
       "    <tr>\n",
       "      <th>815</th>\n",
       "      <td>2022-06-04 08:56:49.219</td>\n",
       "      <td>24238</td>\n",
       "      <td>18153814</td>\n",
       "      <td>900</td>\n",
       "      <td>20220604</td>\n",
       "      <td>00:00</td>\n",
       "      <td>2022-06-08 09:11:26.303</td>\n",
       "      <td>NaN</td>\n",
       "      <td>NaN</td>\n",
       "    </tr>\n",
       "    <tr>\n",
       "      <th>816</th>\n",
       "      <td>2022-06-05 08:53:19.426</td>\n",
       "      <td>24258</td>\n",
       "      <td>18163648</td>\n",
       "      <td>901</td>\n",
       "      <td>20220605</td>\n",
       "      <td>00:00</td>\n",
       "      <td>2022-06-08 09:11:04.758</td>\n",
       "      <td>NaN</td>\n",
       "      <td>NaN</td>\n",
       "    </tr>\n",
       "    <tr>\n",
       "      <th>817</th>\n",
       "      <td>2022-06-06 09:00:06.734</td>\n",
       "      <td>24279</td>\n",
       "      <td>18168670</td>\n",
       "      <td>902</td>\n",
       "      <td>20220606</td>\n",
       "      <td>00:00</td>\n",
       "      <td>2022-06-08 09:10:50.441</td>\n",
       "      <td>NaN</td>\n",
       "      <td>NaN</td>\n",
       "    </tr>\n",
       "    <tr>\n",
       "      <th>818</th>\n",
       "      <td>2022-06-07 09:09:00.897</td>\n",
       "      <td>24299</td>\n",
       "      <td>18174842</td>\n",
       "      <td>903</td>\n",
       "      <td>20220607</td>\n",
       "      <td>00:00</td>\n",
       "      <td>2022-06-08 09:10:36.846</td>\n",
       "      <td>NaN</td>\n",
       "      <td>NaN</td>\n",
       "    </tr>\n",
       "  </tbody>\n",
       "</table>\n",
       "</div>"
      ],
      "text/plain": [
       "                        등록일시   총사망자      총확진자  게시글번호       기준일   기준시간  \\\n",
       "814  2022-06-03 09:08:18.729  24229  18141775    899  20220603  00:00   \n",
       "815  2022-06-04 08:56:49.219  24238  18153814    900  20220604  00:00   \n",
       "816  2022-06-05 08:53:19.426  24258  18163648    901  20220605  00:00   \n",
       "817  2022-06-06 09:00:06.734  24279  18168670    902  20220606  00:00   \n",
       "818  2022-06-07 09:09:00.897  24299  18174842    903  20220607  00:00   \n",
       "\n",
       "                        수정일시  누적의심자  누적확진자  \n",
       "814  2022-06-08 09:11:38.938    NaN    NaN  \n",
       "815  2022-06-08 09:11:26.303    NaN    NaN  \n",
       "816  2022-06-08 09:11:04.758    NaN    NaN  \n",
       "817  2022-06-08 09:10:50.441    NaN    NaN  \n",
       "818  2022-06-08 09:10:36.846    NaN    NaN  "
      ]
     },
     "execution_count": 55,
     "metadata": {},
     "output_type": "execute_result"
    }
   ],
   "source": [
    "df.tail()"
   ]
  },
  {
   "cell_type": "code",
   "execution_count": 56,
   "metadata": {},
   "outputs": [
    {
     "name": "stdout",
     "output_type": "stream",
     "text": [
      "<class 'pandas.core.frame.DataFrame'>\n",
      "RangeIndex: 819 entries, 0 to 818\n",
      "Data columns (total 9 columns):\n",
      " #   Column  Non-Null Count  Dtype  \n",
      "---  ------  --------------  -----  \n",
      " 0   등록일시    819 non-null    object \n",
      " 1   총사망자    819 non-null    int64  \n",
      " 2   총확진자    819 non-null    int64  \n",
      " 3   게시글번호   819 non-null    int64  \n",
      " 4   기준일     819 non-null    int64  \n",
      " 5   기준시간    819 non-null    object \n",
      " 6   수정일시    817 non-null    object \n",
      " 7   누적의심자   692 non-null    float64\n",
      " 8   누적확진자   623 non-null    float64\n",
      "dtypes: float64(2), int64(4), object(3)\n",
      "memory usage: 57.7+ KB\n"
     ]
    }
   ],
   "source": [
    "# 데이터프레임의 정보를 출력하는 함수\n",
    "df.info()"
   ]
  },
  {
   "cell_type": "code",
   "execution_count": 60,
   "metadata": {},
   "outputs": [
    {
     "data": {
      "text/plain": [
       "등록일시       0\n",
       "총사망자       0\n",
       "총확진자       0\n",
       "게시글번호      0\n",
       "기준일        0\n",
       "기준시간       0\n",
       "수정일시       2\n",
       "누적의심자    127\n",
       "누적확진자    196\n",
       "dtype: int64"
      ]
     },
     "execution_count": 60,
     "metadata": {},
     "output_type": "execute_result"
    }
   ],
   "source": [
    "# is함수\n",
    "# 특정한 데이터가 존재하는지 확인하는 함수\n",
    "# 결측치의 유무 판단하는 함수 \n",
    "# isna() : 데이터가 결측치인 경우 True, 결측치가 아니라면 False\n",
    "# sum(axis = (0 | 1))\n",
    "# axis 매개변수 : 0, rows -> 행들의 합계, 1, columns -> 열들의 합계\n",
    "df.isna().sum(axis=0)"
   ]
  },
  {
   "cell_type": "code",
   "execution_count": 65,
   "metadata": {},
   "outputs": [],
   "source": [
    "# 결측치를 특정한 데이터로 치환\n",
    "# fillna({특정한 값})\n",
    "# 해당하는 값으로 결측치를 치환\n",
    "# fillna(method = ?)\n",
    "# method 매개변수 : \n",
    "#   'ffill' -> 전의 데이터의 값으로 대체\n",
    "#   'bfill' -> 후의 데이터의 값으로 대체\n",
    "# df에서 누적의심자 컬럼의 결측치를 ffill로 치환\n",
    "df['누적의심자'] = df['누적의심자'].fillna(method='ffill')"
   ]
  },
  {
   "cell_type": "code",
   "execution_count": 66,
   "metadata": {},
   "outputs": [
    {
     "data": {
      "text/plain": [
       "등록일시       0\n",
       "총사망자       0\n",
       "총확진자       0\n",
       "게시글번호      0\n",
       "기준일        0\n",
       "기준시간       0\n",
       "수정일시       2\n",
       "누적의심자      0\n",
       "누적확진자    196\n",
       "dtype: int64"
      ]
     },
     "execution_count": 66,
     "metadata": {},
     "output_type": "execute_result"
    }
   ],
   "source": [
    "df.isna().sum()"
   ]
  },
  {
   "cell_type": "code",
   "execution_count": 67,
   "metadata": {},
   "outputs": [
    {
     "data": {
      "text/html": [
       "<div>\n",
       "<style scoped>\n",
       "    .dataframe tbody tr th:only-of-type {\n",
       "        vertical-align: middle;\n",
       "    }\n",
       "\n",
       "    .dataframe tbody tr th {\n",
       "        vertical-align: top;\n",
       "    }\n",
       "\n",
       "    .dataframe thead th {\n",
       "        text-align: right;\n",
       "    }\n",
       "</style>\n",
       "<table border=\"1\" class=\"dataframe\">\n",
       "  <thead>\n",
       "    <tr style=\"text-align: right;\">\n",
       "      <th></th>\n",
       "      <th>등록일시</th>\n",
       "      <th>총사망자</th>\n",
       "      <th>총확진자</th>\n",
       "      <th>게시글번호</th>\n",
       "      <th>기준일</th>\n",
       "      <th>기준시간</th>\n",
       "      <th>수정일시</th>\n",
       "      <th>누적의심자</th>\n",
       "      <th>누적확진자</th>\n",
       "    </tr>\n",
       "  </thead>\n",
       "  <tbody>\n",
       "    <tr>\n",
       "      <th>0</th>\n",
       "      <td>2020-03-10 00:00:00.000</td>\n",
       "      <td>54</td>\n",
       "      <td>7513</td>\n",
       "      <td>51</td>\n",
       "      <td>20200310</td>\n",
       "      <td>00:00</td>\n",
       "      <td>2021-10-07 10:30:51.51</td>\n",
       "      <td>210144.0</td>\n",
       "      <td>3.919308</td>\n",
       "    </tr>\n",
       "    <tr>\n",
       "      <th>1</th>\n",
       "      <td>2020-03-11 00:00:00.000</td>\n",
       "      <td>60</td>\n",
       "      <td>7755</td>\n",
       "      <td>52</td>\n",
       "      <td>20200311</td>\n",
       "      <td>00:00</td>\n",
       "      <td>2021-10-07 10:30:51.51</td>\n",
       "      <td>222395.0</td>\n",
       "      <td>3.804175</td>\n",
       "    </tr>\n",
       "  </tbody>\n",
       "</table>\n",
       "</div>"
      ],
      "text/plain": [
       "                      등록일시  총사망자  총확진자  게시글번호       기준일   기준시간  \\\n",
       "0  2020-03-10 00:00:00.000    54  7513     51  20200310  00:00   \n",
       "1  2020-03-11 00:00:00.000    60  7755     52  20200311  00:00   \n",
       "\n",
       "                     수정일시     누적의심자     누적확진자  \n",
       "0  2021-10-07 10:30:51.51  210144.0  3.919308  \n",
       "1  2021-10-07 10:30:51.51  222395.0  3.804175  "
      ]
     },
     "execution_count": 67,
     "metadata": {},
     "output_type": "execute_result"
    }
   ],
   "source": [
    "df.head(2)"
   ]
  },
  {
   "cell_type": "code",
   "execution_count": 69,
   "metadata": {},
   "outputs": [],
   "source": [
    "# 특정한 컬럼의 이름을 변경\n",
    "# rename(index = {'before' : 'after'}, columns = {'before' : 'after'}, inplace = bool)\n",
    "df.rename(columns={'누적확진자' : '누적확진율'}, inplace=True)"
   ]
  },
  {
   "cell_type": "code",
   "execution_count": 75,
   "metadata": {},
   "outputs": [
    {
     "data": {
      "text/plain": [
       "0          0.0\n",
       "1         54.0\n",
       "2         60.0\n",
       "3         66.0\n",
       "4         67.0\n",
       "        ...   \n",
       "814    24212.0\n",
       "815    24229.0\n",
       "816    24238.0\n",
       "817    24258.0\n",
       "818    24279.0\n",
       "Name: 총사망자, Length: 819, dtype: float64"
      ]
     },
     "execution_count": 75,
     "metadata": {},
     "output_type": "execute_result"
    }
   ],
   "source": [
    "# shift(n)\n",
    "# n만큼 행을 이동한다. \n",
    "# 기본값은 1\n",
    "# 전날의 사망자의 데이터\n",
    "df['총사망자'].shift(1).fillna(0)"
   ]
  },
  {
   "cell_type": "code",
   "execution_count": 76,
   "metadata": {},
   "outputs": [
    {
     "data": {
      "text/plain": [
       "0       0.0\n",
       "1       6.0\n",
       "2       6.0\n",
       "3       1.0\n",
       "4       5.0\n",
       "       ... \n",
       "814    17.0\n",
       "815     9.0\n",
       "816    20.0\n",
       "817    21.0\n",
       "818    20.0\n",
       "Name: 총사망자, Length: 819, dtype: float64"
      ]
     },
     "execution_count": 76,
     "metadata": {},
     "output_type": "execute_result"
    }
   ],
   "source": [
    "# 일일사망자 = 오늘의 총사망자 - 전날의 총사망자\n",
    "(df['총사망자'] - df['총사망자'].shift()).fillna(0)"
   ]
  }
 ],
 "metadata": {
  "kernelspec": {
   "display_name": "Python 3",
   "language": "python",
   "name": "python3"
  },
  "language_info": {
   "codemirror_mode": {
    "name": "ipython",
    "version": 3
   },
   "file_extension": ".py",
   "mimetype": "text/x-python",
   "name": "python",
   "nbconvert_exporter": "python",
   "pygments_lexer": "ipython3",
   "version": "3.10.9"
  },
  "orig_nbformat": 4
 },
 "nbformat": 4,
 "nbformat_minor": 2
}
