{
 "cells": [
  {
   "cell_type": "code",
   "execution_count": null,
   "metadata": {},
   "outputs": [],
   "source": [
    "# pandas 라이브러리 로드 \n",
    "import pandas as pd"
   ]
  },
  {
   "cell_type": "markdown",
   "metadata": {},
   "source": [
    "# 경로\n",
    "1. 절대 경로\n",
    "    - 절대적인 주소 값\n",
    "    - 컴퓨터의 환경이 변하더라도 같은 위치를 지정\n",
    "    - ex) c:/users/admin/document/a.txt, https://www.google.com\n",
    "2. 상대 경로\n",
    "    - 상대적인 주소 값\n",
    "    - 환경이 변함에 따라 위치도 변화한다. \n",
    "    - ./ : 현재 파일의 경로\n",
    "    - ../ : 현재 경로에서 상위 폴더로 이동\n",
    "    - 폴더명/ : 하위폴더로 이동\n",
    "    - ex) 현재 경로에서 상위로 이동 sample_web 하위 폴더로 이동\n",
    "    - (../sample_web/app.py)"
   ]
  },
  {
   "cell_type": "code",
   "execution_count": null,
   "metadata": {},
   "outputs": [],
   "source": [
    "# csv라는 하위폴더로 이동 -> corona.csv 파일 로드 \n",
    "# 상대경로\n",
    "corona = pd.read_csv(\"./csv/corona.csv\")\n",
    "# 절대경로\n",
    "# corona2 = pd.read_csv(\"D:\\python\\pandas\\csv\\corona.csv\")"
   ]
  },
  {
   "cell_type": "code",
   "execution_count": null,
   "metadata": {},
   "outputs": [],
   "source": [
    "corona"
   ]
  },
  {
   "cell_type": "code",
   "execution_count": null,
   "metadata": {},
   "outputs": [],
   "source": [
    "# 특정한 행이나 열을 삭제 \n",
    "# drop( {기준이 되는 조건}, axis=(0('rows') | 1('columns')) , inplace = bool )\n",
    "# axis 매개변수 : 0이나 1, rows나 columns 행을 지울것인가 열을 지울것인가 지정\n",
    "# inplace 매개변수 : 기본값은 False, True로 변경하면 기준이되는 데이터프레임을 변경\n",
    "# pandas 안에 있는 DataFrame이라는 class 안에 존재하는 함수\n",
    "# corona = corona.drop( ['Unnamed: 0'], axis = 1 )\n",
    "corona.drop(['Unnamed: 0'], axis='columns', inplace=True)"
   ]
  },
  {
   "cell_type": "code",
   "execution_count": null,
   "metadata": {},
   "outputs": [],
   "source": [
    "corona.drop([0, 1, 4], axis=0)"
   ]
  },
  {
   "cell_type": "code",
   "execution_count": null,
   "metadata": {},
   "outputs": [],
   "source": [
    "# 복사본 데이터를 생성\n",
    "df = corona.copy()"
   ]
  },
  {
   "cell_type": "code",
   "execution_count": null,
   "metadata": {},
   "outputs": [],
   "source": [
    "\n",
    "df.drop([0], axis=0, inplace=True)"
   ]
  },
  {
   "cell_type": "code",
   "execution_count": null,
   "metadata": {},
   "outputs": [],
   "source": [
    "df.head(3)"
   ]
  },
  {
   "cell_type": "code",
   "execution_count": null,
   "metadata": {},
   "outputs": [],
   "source": [
    "corona.head(3)"
   ]
  },
  {
   "cell_type": "code",
   "execution_count": null,
   "metadata": {},
   "outputs": [],
   "source": [
    "# 데이터프레임에 컬럼의 이름을 변경\n",
    "\n",
    "df.columns = [\"등록일시\", '총사망자', '총확진자', '게시글번호', '기준일', '기준시간', \n",
    "              '수정일시', '누적의심자', '누적확진자']"
   ]
  },
  {
   "cell_type": "code",
   "execution_count": null,
   "metadata": {},
   "outputs": [],
   "source": [
    "df.head(3)"
   ]
  },
  {
   "cell_type": "code",
   "execution_count": null,
   "metadata": {},
   "outputs": [],
   "source": [
    "# 특정한 컬럼을 기준으로 차순 정렬\n",
    "# sort_values( {기준이 되는 컬럼}, ascending = bool, inplace = bool )\n",
    "# ascending 매개변수 : 기본값은 True(오름차순), False로 변경하면 내림차순 정렬\n",
    "\n",
    "# 등록일시를 기준으로 오름차순 정렬 데이터프레임을 변경\n",
    "df = df.sort_values(['등록일시'], ascending=True)"
   ]
  },
  {
   "cell_type": "code",
   "execution_count": null,
   "metadata": {},
   "outputs": [],
   "source": [
    "df.head(3)"
   ]
  },
  {
   "cell_type": "code",
   "execution_count": null,
   "metadata": {},
   "outputs": [],
   "source": [
    "# 인덱스를 초기화\n",
    "# reset_index(drop = bool, inplace = bool)\n",
    "# drop 매개변수 : 기본값은 False, True 변경하면 기존의 인덱스를 삭제\n",
    "df.reset_index(drop = True, inplace=True)\n",
    "# df.reset_index().drop(['index'], axis=1)"
   ]
  },
  {
   "cell_type": "code",
   "execution_count": null,
   "metadata": {},
   "outputs": [],
   "source": [
    "df.tail()"
   ]
  },
  {
   "cell_type": "code",
   "execution_count": null,
   "metadata": {},
   "outputs": [],
   "source": [
    "# 데이터프레임의 정보를 출력하는 함수\n",
    "df.info()"
   ]
  },
  {
   "cell_type": "code",
   "execution_count": null,
   "metadata": {},
   "outputs": [],
   "source": [
    "# is함수\n",
    "# 특정한 데이터가 존재하는지 확인하는 함수\n",
    "# 결측치의 유무 판단하는 함수 \n",
    "# isna() : 데이터가 결측치인 경우 True, 결측치가 아니라면 False\n",
    "# sum(axis = (0 | 1))\n",
    "# axis 매개변수 : 0, rows -> 행들의 합계, 1, columns -> 열들의 합계\n",
    "df.isna().sum()"
   ]
  },
  {
   "cell_type": "code",
   "execution_count": null,
   "metadata": {},
   "outputs": [],
   "source": [
    "# 결측치를 특정한 데이터로 치환\n",
    "# fillna({특정한 값})\n",
    "# 해당하는 값으로 결측치를 치환\n",
    "# fillna(method = ?)\n",
    "# method 매개변수 : \n",
    "#   'ffill' -> 전의 데이터의 값으로 대체\n",
    "#   'bfill' -> 후의 데이터의 값으로 대체\n",
    "# df에서 누적의심자 컬럼의 결측치를 ffill로 치환\n",
    "df['누적의심자'] = df['누적의심자'].fillna(method='ffill')"
   ]
  },
  {
   "cell_type": "code",
   "execution_count": null,
   "metadata": {},
   "outputs": [],
   "source": [
    "df.isna().sum()"
   ]
  },
  {
   "cell_type": "code",
   "execution_count": null,
   "metadata": {},
   "outputs": [],
   "source": [
    "df.head(2)"
   ]
  },
  {
   "cell_type": "code",
   "execution_count": null,
   "metadata": {},
   "outputs": [],
   "source": [
    "# 특정한 컬럼의 이름을 변경\n",
    "# rename(index = {'before' : 'after'}, columns = {'before' : 'after'}, inplace = bool)\n",
    "df.rename(columns={'누적확진자' : '누적확진율'}, inplace=True)"
   ]
  },
  {
   "cell_type": "code",
   "execution_count": null,
   "metadata": {},
   "outputs": [],
   "source": [
    "# shift(n)\n",
    "# n만큼 행을 이동한다. \n",
    "# 기본값은 1\n",
    "# 전날의 사망자의 데이터\n",
    "df['총사망자'].shift(1).fillna(0)"
   ]
  },
  {
   "cell_type": "code",
   "execution_count": null,
   "metadata": {},
   "outputs": [],
   "source": [
    "# 일일사망자 = 오늘의 총사망자 - 전날의 총사망자\n",
    "df['일일사망자'] = (df['총사망자'] - df['총사망자'].shift()).fillna(0)"
   ]
  },
  {
   "cell_type": "code",
   "execution_count": null,
   "metadata": {},
   "outputs": [],
   "source": [
    "df.head(1)"
   ]
  },
  {
   "cell_type": "code",
   "execution_count": null,
   "metadata": {},
   "outputs": [],
   "source": [
    "# 스리즈형태에서 전이나 후의 데이터와의 차이를 출력하는 함수\n",
    "# diff(n)\n",
    "# n의 기본값은 1\n",
    "# 현재 행의 데이터와 n만큼 이동한 데이터의 차이를 출력\n",
    "df['일일확진자'] = df['총확진자'].diff(1).fillna(0)"
   ]
  },
  {
   "cell_type": "code",
   "execution_count": null,
   "metadata": {},
   "outputs": [],
   "source": [
    "df.head(1)"
   ]
  },
  {
   "cell_type": "code",
   "execution_count": null,
   "metadata": {},
   "outputs": [],
   "source": [
    "dict_data = {\n",
    "    'name' : 'test', \n",
    "    'age' : 20\n",
    "}\n",
    "print(dict_data)"
   ]
  },
  {
   "cell_type": "code",
   "execution_count": null,
   "metadata": {},
   "outputs": [],
   "source": [
    "# dict 데이터에서 test만 출력하려면?\n",
    "dict_data['name']"
   ]
  },
  {
   "cell_type": "code",
   "execution_count": null,
   "metadata": {},
   "outputs": [],
   "source": [
    "# dict 데이터에서 name의 value를 test2로 변경하려면?\n",
    "dict_data['name'] = 'test2'\n",
    "dict_data"
   ]
  },
  {
   "cell_type": "code",
   "execution_count": null,
   "metadata": {},
   "outputs": [],
   "source": [
    "# dict 데이터에서 새로운 key : value를 추가한다. \n",
    "# phone : 01012345678\n",
    "dict_data['phone'] = '01012345678'\n",
    "dict_data"
   ]
  },
  {
   "cell_type": "markdown",
   "metadata": {},
   "source": [
    "# 필터\n",
    "1. loc[인덱스의 조건, 컬럼의 조건]\n",
    "    - 특정한 인덱스의 조건에 일치하는 데이터를 출력\n",
    "    - 특정한 컬럼의 조건에 일치하는 데이터를 출력\n",
    "2. iloc[인덱스의 위치, 컬럼의 위치]\n",
    "    - 특정한 인덱스의 위치에 데이터를 출력\n",
    "    - 특정한 컬럼의 위치에 데이터를 출력"
   ]
  },
  {
   "cell_type": "code",
   "execution_count": null,
   "metadata": {},
   "outputs": [],
   "source": [
    "# 복사본 생성\n",
    "df2 = df.copy()"
   ]
  },
  {
   "cell_type": "code",
   "execution_count": null,
   "metadata": {},
   "outputs": [],
   "source": [
    "df2.drop([0, 2], axis=0, inplace=True)\n",
    "df2"
   ]
  },
  {
   "cell_type": "code",
   "execution_count": null,
   "metadata": {},
   "outputs": [],
   "source": [
    "# loc[]를 사용한 필터\n",
    "df2.loc[0:6]"
   ]
  },
  {
   "cell_type": "code",
   "execution_count": null,
   "metadata": {},
   "outputs": [],
   "source": [
    "df2.loc[ : ,\"기준일\" : '일일확진자']"
   ]
  },
  {
   "cell_type": "code",
   "execution_count": null,
   "metadata": {},
   "outputs": [],
   "source": [
    "df2.loc[1:4, '기준일' : '수정일시']"
   ]
  },
  {
   "cell_type": "code",
   "execution_count": null,
   "metadata": {},
   "outputs": [],
   "source": [
    "df2.loc[df2['수정일시'].isna()]"
   ]
  },
  {
   "cell_type": "code",
   "execution_count": null,
   "metadata": {},
   "outputs": [],
   "source": [
    "df2.iloc[0:3]"
   ]
  },
  {
   "cell_type": "code",
   "execution_count": null,
   "metadata": {},
   "outputs": [],
   "source": [
    "df2.iloc[:, 1:4]"
   ]
  },
  {
   "cell_type": "code",
   "execution_count": null,
   "metadata": {},
   "outputs": [],
   "source": [
    "# 일일사망자, 일일확진자 음수인 데이터가 존재하는가?\n",
    "(df['일일확진자'] < 0).value_counts()"
   ]
  },
  {
   "cell_type": "code",
   "execution_count": null,
   "metadata": {},
   "outputs": [],
   "source": [
    "df.loc[df['일일확진자'] < 0]"
   ]
  },
  {
   "cell_type": "code",
   "execution_count": null,
   "metadata": {},
   "outputs": [],
   "source": [
    "df.loc[444:448]"
   ]
  },
  {
   "cell_type": "code",
   "execution_count": null,
   "metadata": {},
   "outputs": [],
   "source": [
    "# 2021-05-31일 데이터가 입력에 오류 확인\n",
    "# 인덱스가 445번의 등록일시 라는 데이터를 2021-05-31 00:00:00.000 로 변경\n",
    "\n",
    "# 인덱스가 445이고(인덱스의 조건) 등록일시 컬럼의(컬럼의 조건) 데이터를 출력\n",
    "df.loc[445, '등록일시'] = \"2021-05-31 00:00:00.000\""
   ]
  },
  {
   "cell_type": "code",
   "execution_count": null,
   "metadata": {},
   "outputs": [],
   "source": [
    "df.values"
   ]
  },
  {
   "cell_type": "code",
   "execution_count": null,
   "metadata": {},
   "outputs": [],
   "source": [
    "df.loc[444:448]"
   ]
  },
  {
   "cell_type": "code",
   "execution_count": null,
   "metadata": {},
   "outputs": [],
   "source": [
    "# df를 등록일시를 기준으로 오름차순 정렬\n",
    "df.sort_values(['등록일시'], ascending=True, inplace=True)\n",
    "# df의 인덱스를 초기화하고 기존의 인덱스를 제거 \n",
    "df.reset_index(drop=True, inplace=True)\n",
    "# '일일확진자', '일일사망자' 컬럼의 데이터를 수정 \n",
    "df['일일확진자'] = (df['총확진자'] - df['총확진자'].shift()).fillna(0)\n",
    "df['일일사망자'] = df['총사망자'].diff().fillna(0)\n",
    "# '일일확진자' 컬럼의 데이터의 음수가 존재하는가?\n",
    "df.loc[df['일일확진자'] < 0]"
   ]
  },
  {
   "cell_type": "code",
   "execution_count": null,
   "metadata": {},
   "outputs": [],
   "source": [
    "# 시간 데이터 -> 시계열 데이터\n",
    "# 시계열 데이터로 변환 시켜주는 함수\n",
    "# to_datetime({스리즈 형태의 데이터}, format = {데이터의 형태})\n",
    "# format 매개변수 : 인자값으로 사용하는 입력 데이터가 어떠한 형태로 구성이 되어있는가를 설명\n",
    "# pandas 내부에 있는 함수\n",
    "# %Y : 4자리의 년도수\n",
    "# %y : 2자리의 년도수\n",
    "# %m : 월\n",
    "# %d : 일\n",
    "# %H : 시\n",
    "# %M : 분\n",
    "# #S : 초\n",
    "\n",
    "# 등록일시 데이터를 시계열로 변환\n",
    "df['등록일시'] = pd.to_datetime(df['등록일시'])"
   ]
  },
  {
   "cell_type": "code",
   "execution_count": null,
   "metadata": {},
   "outputs": [],
   "source": [
    "df.info()"
   ]
  },
  {
   "cell_type": "code",
   "execution_count": null,
   "metadata": {},
   "outputs": [],
   "source": [
    "# 기준일 데이터를 시계열로 변환\n",
    "df['기준일'] = pd.to_datetime(df['기준일'], format='%Y%m%d')"
   ]
  },
  {
   "cell_type": "code",
   "execution_count": null,
   "metadata": {},
   "outputs": [],
   "source": [
    "df.info()"
   ]
  },
  {
   "cell_type": "code",
   "execution_count": null,
   "metadata": {},
   "outputs": [],
   "source": [
    "# 시간 데이터에서 요일을 추출\n",
    "df['요일'] = df['등록일시'].dt.weekday"
   ]
  },
  {
   "cell_type": "code",
   "execution_count": null,
   "metadata": {},
   "outputs": [],
   "source": [
    "df.head()"
   ]
  },
  {
   "cell_type": "code",
   "execution_count": null,
   "metadata": {},
   "outputs": [],
   "source": [
    "# map( {함수명}, {자료형데이터} )\n",
    "\n",
    "def change(x):\n",
    "    result = x ** 2\n",
    "    return result\n",
    "\n",
    "_list = [1,2,3,4]\n",
    "# _list의 원소의 값들을 제곱 [1, 4, 9, 16]\n",
    "\n",
    "# 새로운 비어있는 리스트를 생성\n",
    "result = []\n",
    "\n",
    "# 반복문을 이용하여 함수를 호출\n",
    "for i in _list:\n",
    "    result.append( change(i) )\n",
    "\n",
    "result\n"
   ]
  },
  {
   "cell_type": "code",
   "execution_count": null,
   "metadata": {},
   "outputs": [],
   "source": [
    "list(map(change, _list))"
   ]
  },
  {
   "cell_type": "code",
   "execution_count": null,
   "metadata": {},
   "outputs": [],
   "source": [
    "# apply({함수명})\n",
    "# 스리즈 형태의 데이터를 일반 함수에 대입하여 새로운 스리즈 형태의 데이터를 생성\n",
    "\n",
    "# 일반 함수\n",
    "def change(x):\n",
    "    # x가 0이라면 '월'\n",
    "    if x == 0:\n",
    "        result = '월'\n",
    "    elif x == 1:\n",
    "        result = '화'\n",
    "    elif x == 2:\n",
    "        result = '수'\n",
    "    elif x == 3:\n",
    "        result = '목'\n",
    "    elif x == 4:\n",
    "        result = '금'\n",
    "    elif x == 5:\n",
    "        result = '토'\n",
    "    else :\n",
    "        result = '일'\n",
    "    return  result\n"
   ]
  },
  {
   "cell_type": "code",
   "execution_count": null,
   "metadata": {},
   "outputs": [],
   "source": [
    "df['요일'].apply(change)"
   ]
  },
  {
   "cell_type": "code",
   "execution_count": null,
   "metadata": {},
   "outputs": [],
   "source": [
    "# lambda 함수\n",
    "# 함수를 선언함과 동시에 호출\n",
    "_list = [1, 3, 6, 8]\n",
    "\n",
    "list(\n",
    "    map(\n",
    "        lambda x : x ** 2, \n",
    "        _list\n",
    "    )\n",
    ")"
   ]
  },
  {
   "cell_type": "code",
   "execution_count": null,
   "metadata": {},
   "outputs": [],
   "source": [
    "def change2(x):\n",
    "    # x를 위치값으로 생각 자료형 데이터에서 해당하는 위치의 데이터를 출력\n",
    "    week_list = ['월', '화', '수', '목', '금', '토', '일']\n",
    "\n",
    "    return week_list[x]\n",
    "\n",
    "df['요일'] = df['요일'].apply(change2)"
   ]
  },
  {
   "cell_type": "code",
   "execution_count": null,
   "metadata": {},
   "outputs": [],
   "source": [
    "df.head(3)"
   ]
  },
  {
   "cell_type": "code",
   "execution_count": null,
   "metadata": {},
   "outputs": [],
   "source": [
    "# 데이터를 그룹화하여 연산\n",
    "# 그룹화 함수\n",
    "# groupby({특정한 컬럼}).연산함수\n",
    "# 연산함수 : 최소, 최대, 합계, 평균, 표준편차, 개수\n",
    "df[ ['요일', '일일사망자', '일일확진자'] ].groupby(['요일']).mean()"
   ]
  },
  {
   "cell_type": "code",
   "execution_count": null,
   "metadata": {},
   "outputs": [],
   "source": [
    "group_data = \\\n",
    "    df[ ['요일', '일일사망자', '일일확진자'] ].groupby(['요일']).agg(['mean', 'sum'])"
   ]
  },
  {
   "cell_type": "code",
   "execution_count": null,
   "metadata": {},
   "outputs": [],
   "source": [
    "group_data['일일사망자']['mean']"
   ]
  },
  {
   "cell_type": "code",
   "execution_count": null,
   "metadata": {},
   "outputs": [],
   "source": [
    "group_data"
   ]
  },
  {
   "cell_type": "code",
   "execution_count": null,
   "metadata": {},
   "outputs": [],
   "source": [
    "# 그래프로 시각화\n",
    "# matplotlib 라이브러리 로드 \n",
    "from matplotlib import pyplot as plt"
   ]
  },
  {
   "cell_type": "code",
   "execution_count": null,
   "metadata": {},
   "outputs": [],
   "source": [
    "import platform"
   ]
  },
  {
   "cell_type": "code",
   "execution_count": null,
   "metadata": {},
   "outputs": [],
   "source": [
    "# 한글 깨짐 방지 \n",
    "# matplot에 있는 폰트의 설정을 변경\n",
    "\n",
    "# os 가 mac 인 경우\n",
    "if platform.system() == 'Darwin':\n",
    "    plt.rc('font', family = 'AppleGothic')\n",
    "else :\n",
    "    plt.rc('font', family = 'Malgun Gothic')"
   ]
  },
  {
   "cell_type": "code",
   "execution_count": null,
   "metadata": {},
   "outputs": [],
   "source": [
    "# 바형 그래프\n",
    "# bar({x축데이터}, {y축데이터}, option)\n",
    "# 요일별 일일확진자의 평균 값을 바형 그래프 표기\n",
    "x = group_data.index\n",
    "y = group_data['일일확진자']['mean']\n",
    "\n",
    "plt.bar(x, y)\n",
    "plt.show()"
   ]
  },
  {
   "cell_type": "code",
   "execution_count": null,
   "metadata": {},
   "outputs": [],
   "source": [
    "# 요일별로 데이터프레임의 순서를 변경\n",
    "week_order = ['월', '화', '수', '목', '금', '토', '일']\n",
    "group_data = group_data.loc[week_order]"
   ]
  },
  {
   "cell_type": "code",
   "execution_count": null,
   "metadata": {},
   "outputs": [],
   "source": [
    "# 일일확진자의 요일별 평균값 그래프와 \n",
    "# 일일사망자의 요일별 합계값 그래프를 \n",
    "# subplot을 이용하여 시각화\n",
    "\n",
    "x = group_data.index\n",
    "y1 = group_data['일일확진자']['mean']\n",
    "y2 = group_data['일일사망자']['sum']\n",
    "\n",
    "# 그래프가 그려지는 영역의 사이즈를 지정 \n",
    "plt.figure(figsize=(14, 8))\n",
    "# 영역을 이분할하여 첫번째 영역을 선택\n",
    "plt.subplot(2, 1, 1)\n",
    "# 그래프 시각화\n",
    "plt.bar(x, y1, color=['red', 'yellow'])\n",
    "# x축의 이름\n",
    "plt.xlabel('요일')\n",
    "# y축의 이름\n",
    "plt.ylabel('일일확진자 평균')\n",
    "# 그래프의 제목\n",
    "plt.title('요일별 일일 확진자')\n",
    "# 2개의 영역중 두번째 영역을 선택\n",
    "plt.subplot(2, 1, 2)\n",
    "# 그래프 시각화\n",
    "plt.bar(x, y2)\n",
    "\n",
    "plt.show()"
   ]
  },
  {
   "cell_type": "code",
   "execution_count": null,
   "metadata": {},
   "outputs": [],
   "source": [
    "# pivot_table()\n",
    "# 그룹화 연산\n",
    "pivot_data = pd.pivot_table(\n",
    "    df, \n",
    "    index= ['요일'], \n",
    "    values= ['일일사망자', '일일확진자'], \n",
    "    aggfunc= ['mean']\n",
    ")"
   ]
  },
  {
   "cell_type": "code",
   "execution_count": null,
   "metadata": {},
   "outputs": [],
   "source": [
    "# 단순하게 시각화\n",
    "pivot_data.plot.bar()"
   ]
  },
  {
   "cell_type": "code",
   "execution_count": null,
   "metadata": {},
   "outputs": [],
   "source": [
    "# 데이터 전처리 과정이 완료된 후 해당하는 데이터프레임을 파일로 저장\n",
    "# csv 파일로 저장\n",
    "# 데이터의 형태를 csv로 변환\n",
    "# to_csv({파일이 저장되는 경로와 파일의 이름}, encoding=?)\n",
    "# encoding 매개변수 : 데이터를 어떤 엔진을 인코딩을 할것인가\n",
    "# 기본값은 UTF-8 -> 한글이 종종 깨지는 경우가 발생\n",
    "# 한글이 깨지는 경우 'CP949', 'EUC-KR'로 변경\n",
    "df.to_csv(\"./corona.csv\", encoding='cp949', index=False)"
   ]
  },
  {
   "cell_type": "code",
   "execution_count": null,
   "metadata": {},
   "outputs": [],
   "source": [
    "df.to_excel('./corona.xlsx')"
   ]
  },
  {
   "cell_type": "markdown",
   "metadata": {},
   "source": []
  },
  {
   "cell_type": "code",
   "execution_count": null,
   "metadata": {},
   "outputs": [],
   "source": [
    "!pip install openpyxl"
   ]
  },
  {
   "cell_type": "code",
   "execution_count": null,
   "metadata": {},
   "outputs": [],
   "source": [
    "pd.read_csv(\"./corona.csv\", encoding='cp949')"
   ]
  }
 ],
 "metadata": {
  "kernelspec": {
   "display_name": "Python 3",
   "language": "python",
   "name": "python3"
  },
  "language_info": {
   "codemirror_mode": {
    "name": "ipython",
    "version": 3
   },
   "file_extension": ".py",
   "mimetype": "text/x-python",
   "name": "python",
   "nbconvert_exporter": "python",
   "pygments_lexer": "ipython3",
   "version": "3.10.9"
  },
  "orig_nbformat": 4
 },
 "nbformat": 4,
 "nbformat_minor": 2
}
