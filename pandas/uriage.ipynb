{
 "cells": [
  {
   "cell_type": "code",
   "execution_count": null,
   "metadata": {},
   "outputs": [],
   "source": [
    "import pandas as pd"
   ]
  },
  {
   "cell_type": "code",
   "execution_count": null,
   "metadata": {},
   "outputs": [],
   "source": [
    "df = pd.read_csv(\"./csv/uriage.csv\")\n",
    "df.head()"
   ]
  },
  {
   "cell_type": "markdown",
   "metadata": {},
   "source": [
    "- 문제점 \n",
    "    1. item_name의 데이터가 대소문자가 자기맘대로\n",
    "    2. item_name의 데이터가 문자열 중간에 공백이 존재\n",
    "    3. item_price의 데이터가 결측치가 존재\n",
    "- 해결 방안\n",
    "    1. 대문자, 소문자 둘 중에 하나로 통일(upper(), lower())\n",
    "    2. 문자열 사이에 있는 공백을 제거(replace())\n",
    "    3. 결측치는 특정한 데이터로 대체 \n",
    "        - item_name에 맞는 item_price의 대체"
   ]
  },
  {
   "cell_type": "code",
   "execution_count": null,
   "metadata": {},
   "outputs": [],
   "source": [
    "# item_name를 모두 대문자로 변경 \n",
    "# upper() : 문자열을 모두 대문자로 변경하는 문자열 내부 함수\n",
    "\n",
    "# case1 (apply + 일반함수)\n",
    "\n",
    "# 함수 선언\n",
    "def change(x):\n",
    "    # x는 문자열\n",
    "    result = x.upper()\n",
    "    return result\n",
    "# apply({함수명}) : 스리즈 형태의 데이터를 하나씩 함수에 대입하여 새로운 스리즈를 출력\n",
    "df['item_name'].apply(change)\n"
   ]
  },
  {
   "cell_type": "code",
   "execution_count": null,
   "metadata": {},
   "outputs": [],
   "source": [
    "# case2 (apply + lambda 함수)\n",
    "df['item_name'].apply(\n",
    "    lambda x : x.upper()\n",
    ")"
   ]
  },
  {
   "cell_type": "code",
   "execution_count": null,
   "metadata": {},
   "outputs": [],
   "source": [
    "# case3 ( 스리즈 데이터에서 문자열 내부 함수 사용 )\n",
    "df['item_name'] = df['item_name'].str.upper()"
   ]
  },
  {
   "cell_type": "code",
   "execution_count": null,
   "metadata": {},
   "outputs": [],
   "source": [
    "# item_name의 공백을 제거 \n",
    "# 문자열 내부함수인 replace()를 사용\n",
    "    # replace({변경할 문자열}, {대체할 문자열})\n",
    "    # replace(\" \", \"\")\n",
    "# 스리즈 내부함수 replace()도 존재\n",
    "    # replace({변경할 value}, {대체할 value})\n",
    "df['item_name'] = df['item_name'].str.replace(\" \", \"\")\n"
   ]
  },
  {
   "cell_type": "code",
   "execution_count": null,
   "metadata": {},
   "outputs": [],
   "source": [
    "df2 = pd.read_csv(\"./csv/uriage.csv\")"
   ]
  },
  {
   "cell_type": "code",
   "execution_count": null,
   "metadata": {},
   "outputs": [],
   "source": [
    "# 공백제거, 문자열 모두 대문자로 변경\n",
    "\n",
    "# case1 (apply)\n",
    "def change(x):\n",
    "    # # 대문자로 변경\n",
    "    # result = x.upper()  \n",
    "    # # 공백을 제거 \n",
    "    # result = result.replace(\" \", \"\")\n",
    "    result = x.upper().replace(\" \", \"\")\n",
    "    return result\n",
    "\n",
    "df2['item_name'].apply(change)"
   ]
  },
  {
   "cell_type": "code",
   "execution_count": null,
   "metadata": {},
   "outputs": [],
   "source": [
    "# case2 (apply + lambda)\n",
    "df2['item_name'].apply(\n",
    "    lambda x : x.upper().replace(\" \", \"\")\n",
    ")"
   ]
  },
  {
   "cell_type": "code",
   "execution_count": null,
   "metadata": {},
   "outputs": [],
   "source": [
    "# case3 (스리즈에서 문자열 내부함수)\n",
    "df2['item_name'].str.upper().str.replace(\" \", \"\")"
   ]
  },
  {
   "cell_type": "code",
   "execution_count": null,
   "metadata": {},
   "outputs": [],
   "source": [
    "# 결측치를 특정한 데이터로 대체\n",
    "# item_name의 값에 따라 item_price의 대체한 데이터가 다른 경우\n",
    "\n",
    "# item_name이 상품A 인 데이터만 출력\n",
    "# 조건식 \n",
    "flag = df['item_name'] == '상품A'\n",
    "df.loc[flag]"
   ]
  },
  {
   "cell_type": "code",
   "execution_count": null,
   "metadata": {},
   "outputs": [],
   "source": [
    "# item_name이 상품A(조건1) 이고(그리고) item_price가 결측치인(조건2) 데이터를 출력\n",
    "flag = (df['item_name'] == '상품A') & ~(df['item_price'].isna())\n",
    "df.loc[flag]"
   ]
  },
  {
   "cell_type": "code",
   "execution_count": null,
   "metadata": {},
   "outputs": [],
   "source": [
    "flag = df['item_name'] == '상품A'\n",
    "flag_null = df['item_price'].isna()\n",
    "df.loc[flag & ~flag_null]"
   ]
  },
  {
   "cell_type": "code",
   "execution_count": null,
   "metadata": {},
   "outputs": [],
   "source": [
    "# item_name이 상품A이고 item_price가 결측치가 아닌 데이터의 item_price의 평균 값\n",
    "a_mean = df.loc[flag & ~flag_null, 'item_price'].mean()"
   ]
  },
  {
   "cell_type": "code",
   "execution_count": null,
   "metadata": {},
   "outputs": [],
   "source": [
    "# item_name이 상품A이고 item_price가 결측치인 데이터를 출력해서 item_price에 a_mean을 대체\n",
    "df.loc[flag & flag_null, 'item_price'] = a_mean"
   ]
  },
  {
   "cell_type": "code",
   "execution_count": null,
   "metadata": {},
   "outputs": [],
   "source": [
    "df.loc[flag & flag_null]"
   ]
  },
  {
   "cell_type": "code",
   "execution_count": null,
   "metadata": {},
   "outputs": [],
   "source": [
    "flag = df['item_name'] == '상품A'\n",
    "flag_null = df['item_price'].isna()\n",
    "a_mean = df.loc[flag & ~flag_null, 'item_price'].mean()\n",
    "df.loc[flag & flag_null, 'item_price'] = a_mean"
   ]
  },
  {
   "cell_type": "code",
   "execution_count": 48,
   "metadata": {},
   "outputs": [
    {
     "data": {
      "text/plain": [
       "Index(['상품S', '상품A', '상품R', '상품P', '상품V', '상품C', '상품F', '상품D', '상품Q', '상품O',\n",
       "       '상품W', '상품N', '상품T', '상품J', '상품X', '상품I', '상품B', '상품M', '상품L', '상품G',\n",
       "       '상품K', '상품H', '상품U', '상품E', '상품Y', '상품Z'],\n",
       "      dtype='object', name='item_name')"
      ]
     },
     "execution_count": 48,
     "metadata": {},
     "output_type": "execute_result"
    }
   ],
   "source": [
    "# item_name의 데이터들을 중 유니크한 배열 \n",
    "df['item_name'].value_counts().index"
   ]
  },
  {
   "cell_type": "code",
   "execution_count": null,
   "metadata": {},
   "outputs": [],
   "source": [
    "set(df['item_name'].values)"
   ]
  },
  {
   "cell_type": "code",
   "execution_count": 52,
   "metadata": {},
   "outputs": [],
   "source": [
    "item_list = df['item_name'].unique()"
   ]
  },
  {
   "cell_type": "code",
   "execution_count": 54,
   "metadata": {},
   "outputs": [],
   "source": [
    "# 반복문 \n",
    "# for 변수명 in 자료형데이터(튜플, 리스트):\n",
    "for i in item_list:\n",
    "    # print(i)\n",
    "    flag = df['item_name'] == i\n",
    "    flag_null = df['item_price'].isna()\n",
    "    a_mean = df.loc[flag & ~flag_null, 'item_price'].mean()\n",
    "    df.loc[flag & flag_null, 'item_price'] = a_mean\n",
    "    "
   ]
  },
  {
   "cell_type": "code",
   "execution_count": 58,
   "metadata": {},
   "outputs": [
    {
     "data": {
      "text/plain": [
       "600.0"
      ]
     },
     "execution_count": 58,
     "metadata": {},
     "output_type": "execute_result"
    }
   ],
   "source": [
    "df.loc[df['item_name'] == '상품F', 'item_price'].mean()"
   ]
  }
 ],
 "metadata": {
  "kernelspec": {
   "display_name": "Python 3",
   "language": "python",
   "name": "python3"
  },
  "language_info": {
   "codemirror_mode": {
    "name": "ipython",
    "version": 3
   },
   "file_extension": ".py",
   "mimetype": "text/x-python",
   "name": "python",
   "nbconvert_exporter": "python",
   "pygments_lexer": "ipython3",
   "version": "3.10.9"
  },
  "orig_nbformat": 4
 },
 "nbformat": 4,
 "nbformat_minor": 2
}
