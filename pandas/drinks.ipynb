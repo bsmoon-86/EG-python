{
 "cells": [
  {
   "cell_type": "markdown",
   "metadata": {},
   "source": [
    "# 예제\n",
    "1. csv 폴더 안에 있는 drinks.csv 파일 로드 \n",
    "2. 해당하는 데이터프레임에서 결측치가 존재하는가?\n",
    "3. continent 컬럼에서 결측치가 존재하는데 결측치들을 'OT' 값으로 대체\n",
    "4. 컬럼의 이름을 변경 -> ['국가', '맥주소비량', '양주소비량', '와인소비량', '알콜농도', '대륙']\n",
    "5. 알콜농도 컬럼 데이터의 총 평균보다 높은 대륙은 어디인가\n",
    "    - 대륙별 그룹화 알콜농도의 평균 \n",
    "    - 전체 알콜농도의 평균값보다 큰 데이터를 출력\n",
    "6. 국가별 술 소비량 대비 알콜의 비율 컬럼을 생성\n",
    "    - 파생변수 ( '전체 술 소비량' )\n",
    "        - 맥주소비량 + 양주소비량 + 와인소비량\n",
    "    - 파생변수 ('비율') 생성\n",
    "        - (알콜농도 / 전체 술 소비량) * 100"
   ]
  },
  {
   "cell_type": "code",
   "execution_count": null,
   "metadata": {},
   "outputs": [],
   "source": [
    "# 라이브러리 로드 \n",
    "import pandas as pd"
   ]
  },
  {
   "cell_type": "code",
   "execution_count": null,
   "metadata": {},
   "outputs": [],
   "source": [
    "# read_csv()를 이용하여 csv 파일 로드 \n",
    "df = pd.read_csv(\"./csv/drinks.csv\")\n",
    "df.head()"
   ]
  },
  {
   "cell_type": "code",
   "execution_count": null,
   "metadata": {},
   "outputs": [],
   "source": [
    "# 결측치가 존재하는지 확인 \n",
    "# info()\n",
    "df.info()"
   ]
  },
  {
   "cell_type": "code",
   "execution_count": null,
   "metadata": {},
   "outputs": [],
   "source": [
    "# 결측치의 개수를 확인\n",
    "df.isna().sum()"
   ]
  },
  {
   "cell_type": "code",
   "execution_count": null,
   "metadata": {},
   "outputs": [],
   "source": [
    "# 결측치를 'OT'라는 값으로 대체\n",
    "df['continent'] = df['continent'].fillna('OT')"
   ]
  },
  {
   "cell_type": "code",
   "execution_count": null,
   "metadata": {},
   "outputs": [],
   "source": [
    "# 컬럼의 이름을 변경 \n",
    "# df라는 Class 안에 있는 독립적인 변수값인 columns의 데이터를 변경\n",
    "df.columns = ['국가', '맥주소비량', '양주소비량', '와인소비량', '알콜농도', '대륙']\n",
    "df.head(1)"
   ]
  },
  {
   "cell_type": "code",
   "execution_count": null,
   "metadata": {},
   "outputs": [],
   "source": [
    "# 대륙별(대륙 컬럼의 데이터를 기준으로 그룹화) 알콜농도의 평균(그룹화 연산)\n",
    "# df.iloc[:, 1:].groupby(['대륙']).mean()\n",
    "group_data = df[['대륙', '알콜농도']].groupby(['대륙']).mean()\n",
    "group_data"
   ]
  },
  {
   "cell_type": "code",
   "execution_count": null,
   "metadata": {},
   "outputs": [],
   "source": [
    "# 알콜농도 전체 데이터의 평균\n",
    "alcohol_mean = df['알콜농도'].mean()"
   ]
  },
  {
   "cell_type": "code",
   "execution_count": 24,
   "metadata": {},
   "outputs": [],
   "source": [
    "# (group_data > alcohol_mean)['알콜농도']\n",
    "flag = group_data['알콜농도'] > alcohol_mean"
   ]
  },
  {
   "cell_type": "code",
   "execution_count": null,
   "metadata": {},
   "outputs": [],
   "source": [
    "group_data.loc[flag]"
   ]
  },
  {
   "cell_type": "code",
   "execution_count": 27,
   "metadata": {},
   "outputs": [],
   "source": [
    "# 술 소비량 대비 알콜농도 새로운 컬럼\n",
    "\n",
    "# 전체 술 소비량 컬럼 생성\n",
    "# 맥주 + 양주 + 와인\n",
    "df['전체술소비량'] = df['맥주소비량'] + df['양주소비량'] + df['와인소비량']"
   ]
  },
  {
   "cell_type": "code",
   "execution_count": 28,
   "metadata": {},
   "outputs": [
    {
     "data": {
      "text/html": [
       "<div>\n",
       "<style scoped>\n",
       "    .dataframe tbody tr th:only-of-type {\n",
       "        vertical-align: middle;\n",
       "    }\n",
       "\n",
       "    .dataframe tbody tr th {\n",
       "        vertical-align: top;\n",
       "    }\n",
       "\n",
       "    .dataframe thead th {\n",
       "        text-align: right;\n",
       "    }\n",
       "</style>\n",
       "<table border=\"1\" class=\"dataframe\">\n",
       "  <thead>\n",
       "    <tr style=\"text-align: right;\">\n",
       "      <th></th>\n",
       "      <th>국가</th>\n",
       "      <th>맥주소비량</th>\n",
       "      <th>양주소비량</th>\n",
       "      <th>와인소비량</th>\n",
       "      <th>알콜농도</th>\n",
       "      <th>대륙</th>\n",
       "      <th>전체술소비량</th>\n",
       "    </tr>\n",
       "  </thead>\n",
       "  <tbody>\n",
       "    <tr>\n",
       "      <th>0</th>\n",
       "      <td>Afghanistan</td>\n",
       "      <td>0</td>\n",
       "      <td>0</td>\n",
       "      <td>0</td>\n",
       "      <td>0.0</td>\n",
       "      <td>AS</td>\n",
       "      <td>0</td>\n",
       "    </tr>\n",
       "  </tbody>\n",
       "</table>\n",
       "</div>"
      ],
      "text/plain": [
       "            국가  맥주소비량  양주소비량  와인소비량  알콜농도  대륙  전체술소비량\n",
       "0  Afghanistan      0      0      0   0.0  AS       0"
      ]
     },
     "execution_count": 28,
     "metadata": {},
     "output_type": "execute_result"
    }
   ],
   "source": [
    "df.head(1)"
   ]
  },
  {
   "cell_type": "code",
   "execution_count": 31,
   "metadata": {},
   "outputs": [],
   "source": [
    "# 비율 컬럼을 생성\n",
    "# (알콜농도 / 전체술소비량) * 100\n",
    "\n",
    "df['비율'] = ((df['알콜농도'] / df['전체술소비량']) * 100).fillna(0)"
   ]
  },
  {
   "cell_type": "code",
   "execution_count": null,
   "metadata": {},
   "outputs": [],
   "source": [
    "df.head()"
   ]
  },
  {
   "cell_type": "code",
   "execution_count": 35,
   "metadata": {},
   "outputs": [],
   "source": [
    "# 전체술소비량 컬럼의 데이터를 기준으로 내림차순 정렬\n",
    "df2 = df.sort_values(['전체술소비량'], ascending=False)"
   ]
  },
  {
   "cell_type": "code",
   "execution_count": null,
   "metadata": {},
   "outputs": [],
   "source": [
    "df2"
   ]
  },
  {
   "cell_type": "code",
   "execution_count": 40,
   "metadata": {},
   "outputs": [
    {
     "data": {
      "text/html": [
       "<div>\n",
       "<style scoped>\n",
       "    .dataframe tbody tr th:only-of-type {\n",
       "        vertical-align: middle;\n",
       "    }\n",
       "\n",
       "    .dataframe tbody tr th {\n",
       "        vertical-align: top;\n",
       "    }\n",
       "\n",
       "    .dataframe thead th {\n",
       "        text-align: right;\n",
       "    }\n",
       "</style>\n",
       "<table border=\"1\" class=\"dataframe\">\n",
       "  <thead>\n",
       "    <tr style=\"text-align: right;\">\n",
       "      <th></th>\n",
       "      <th>국가</th>\n",
       "      <th>맥주소비량</th>\n",
       "      <th>양주소비량</th>\n",
       "      <th>와인소비량</th>\n",
       "      <th>알콜농도</th>\n",
       "      <th>대륙</th>\n",
       "      <th>전체술소비량</th>\n",
       "      <th>비율</th>\n",
       "    </tr>\n",
       "  </thead>\n",
       "  <tbody>\n",
       "    <tr>\n",
       "      <th>98</th>\n",
       "      <td>South Korea</td>\n",
       "      <td>140</td>\n",
       "      <td>16</td>\n",
       "      <td>9</td>\n",
       "      <td>9.8</td>\n",
       "      <td>AS</td>\n",
       "      <td>165</td>\n",
       "      <td>5.939394</td>\n",
       "    </tr>\n",
       "  </tbody>\n",
       "</table>\n",
       "</div>"
      ],
      "text/plain": [
       "             국가  맥주소비량  양주소비량  와인소비량  알콜농도  대륙  전체술소비량        비율\n",
       "98  South Korea    140     16      9   9.8  AS     165  5.939394"
      ]
     },
     "execution_count": 40,
     "metadata": {},
     "output_type": "execute_result"
    }
   ],
   "source": [
    "# 'South Korea'의 랭킹 확인하려면?\n",
    "# 인덱스를 초기화 기존의 인덱스는 삭제 \n",
    "df2.reset_index(drop=True, inplace=True)\n",
    "# 국가 데이터에서 south korea 검색\n",
    "# 데이터프레임에서 국가 컬럼의 데이터들 중 'South Korea'와 같은 데이터가 존재하는가? -> 조건식\n",
    "# 해당하는 조건식을 loc[조건식] 데이터를 출력\n",
    "\n",
    "# 조건식 생성\n",
    "flag = df2['국가'] == 'South Korea'\n",
    "# loc[]을 이용하여 필터\n",
    "df2.loc[flag]"
   ]
  },
  {
   "cell_type": "code",
   "execution_count": 41,
   "metadata": {},
   "outputs": [],
   "source": [
    "# 해당하는 데이터를 그래프로 시각화\n",
    "import matplotlib.pyplot as plt"
   ]
  },
  {
   "cell_type": "code",
   "execution_count": 48,
   "metadata": {},
   "outputs": [
    {
     "name": "stderr",
     "output_type": "stream",
     "text": [
      "c:\\Users\\eungok\\AppData\\Local\\Programs\\Python\\Python310\\lib\\site-packages\\matplotlib\\text.py:1477: FutureWarning: Calling float on a single element Series is deprecated and will raise a TypeError in the future. Use float(ser.iloc[0]) instead\n",
      "  y = float(self.convert_yunits(y))\n",
      "c:\\Users\\eungok\\AppData\\Local\\Programs\\Python\\Python310\\lib\\site-packages\\matplotlib\\text.py:898: FutureWarning: Calling float on a single element Series is deprecated and will raise a TypeError in the future. Use float(ser.iloc[0]) instead\n",
      "  y = float(self.convert_yunits(self._y))\n",
      "c:\\Users\\eungok\\AppData\\Local\\Programs\\Python\\Python310\\lib\\site-packages\\matplotlib\\text.py:758: FutureWarning: Calling float on a single element Series is deprecated and will raise a TypeError in the future. Use float(ser.iloc[0]) instead\n",
      "  posy = float(self.convert_yunits(self._y))\n"
     ]
    },
    {
     "data": {
      "image/png": "[encoded data removed]",
      "text/plain": [
       "<Figure size 1600x800 with 1 Axes>"
      ]
     },
     "metadata": {},
     "output_type": "display_data"
    }
   ],
   "source": [
    "# 술소비량이 높은 순서대로 바형 그래프 표시 \n",
    "x = df2.index\n",
    "y = df2['전체술소비량']\n",
    "\n",
    "# 한국의 인덱스는 몇인가?\n",
    "korea_index = df2.loc[ df2['국가'] == 'South Korea' ].index[0]\n",
    "# 한국의 전체술소비량은 몇인가?\n",
    "korea_total = df2.loc[ \n",
    "    df2['국가'] == 'South Korea',  # 인덱스의 조건\n",
    "    '전체술소비량'                 # 컬럼의 조건\n",
    "]\n",
    "\n",
    "# 그래프 사이즈 변경 \n",
    "plt.figure(figsize=(16, 8))\n",
    "\n",
    "drink_graph = plt.bar(x, y)\n",
    "\n",
    "# 한국 데이터의 막대의 색을 변경\n",
    "# 그래프에서 99번째 막대를 선택하여 색을 빨간색으로 변경\n",
    "drink_graph[korea_index].set_color('r')\n",
    "\n",
    "# 그래프에 주석을 추가 \n",
    "plt.annotate(\n",
    "    'South Korea :' + str(korea_index + 1),             # 주석의 텍스트\n",
    "    xytext = (korea_index + 6, korea_total + 40),       # 텍스트의 위치\n",
    "    xy = (korea_index, korea_total),                    # 텍스트가 가르키는 막대의 좌표\n",
    "    arrowprops= dict(                                   # 화살표의 모양\n",
    "        facecolor = 'r', \n",
    "        shrink = 0.05\n",
    "    )\n",
    ")\n",
    "\n",
    "plt.show()"
   ]
  },
  {
   "cell_type": "code",
   "execution_count": 45,
   "metadata": {},
   "outputs": [
    {
     "data": {
      "text/plain": [
       "98    165\n",
       "Name: 전체술소비량, dtype: int64"
      ]
     },
     "execution_count": 45,
     "metadata": {},
     "output_type": "execute_result"
    }
   ],
   "source": [
    "df2.loc[ \n",
    "    df2['국가'] == 'South Korea',  # 인덱스의 조건\n",
    "    '전체술소비량'                 # 컬럼의 조건\n",
    "]"
   ]
  },
  {
   "cell_type": "code",
   "execution_count": null,
   "metadata": {},
   "outputs": [],
   "source": [
    "_list = [3, 5]\n",
    "\n",
    "# 3이라는 값만 추출\n",
    "_list[0]"
   ]
  }
 ],
 "metadata": {
  "kernelspec": {
   "display_name": "Python 3",
   "language": "python",
   "name": "python3"
  },
  "language_info": {
   "codemirror_mode": {
    "name": "ipython",
    "version": 3
   },
   "file_extension": ".py",
   "mimetype": "text/x-python",
   "name": "python",
   "nbconvert_exporter": "python",
   "pygments_lexer": "ipython3",
   "version": "3.10.9"
  },
  "orig_nbformat": 4
 },
 "nbformat": 4,
 "nbformat_minor": 2
}
