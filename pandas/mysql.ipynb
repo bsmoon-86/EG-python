{
 "cells": [
  {
   "cell_type": "code",
   "execution_count": null,
   "metadata": {},
   "outputs": [],
   "source": [
    "!pip install pymysql"
   ]
  },
  {
   "cell_type": "code",
   "execution_count": null,
   "metadata": {},
   "outputs": [],
   "source": [
    "import pymysql"
   ]
  },
  {
   "cell_type": "code",
   "execution_count": 4,
   "metadata": {},
   "outputs": [],
   "source": [
    "# sql 서버 정보를 입력\n",
    "_db = pymysql.connect(\n",
    "    user = 'root', \n",
    "    password = 'java', \n",
    "    host = 'localhost', \n",
    "    db = 'os', \n",
    "    port = 3306\n",
    ")"
   ]
  },
  {
   "cell_type": "code",
   "execution_count": 5,
   "metadata": {},
   "outputs": [],
   "source": [
    "# cursor 생성\n",
    "cursor = _db.cursor()\n",
    "\n",
    "cursor2 = _db.cursor(pymysql.cursors.DictCursor)"
   ]
  },
  {
   "cell_type": "code",
   "execution_count": 7,
   "metadata": {},
   "outputs": [],
   "source": [
    "sql = \"\"\"\n",
    "    SELECT \n",
    "    * \n",
    "    FROM \n",
    "    offline\n",
    "\"\"\""
   ]
  },
  {
   "cell_type": "code",
   "execution_count": 8,
   "metadata": {},
   "outputs": [
    {
     "data": {
      "text/plain": [
       "1213"
      ]
     },
     "execution_count": 8,
     "metadata": {},
     "output_type": "execute_result"
    }
   ],
   "source": [
    "cursor.execute(sql)\n",
    "cursor2.execute(sql)"
   ]
  },
  {
   "cell_type": "code",
   "execution_count": 9,
   "metadata": {},
   "outputs": [],
   "source": [
    "result = cursor.fetchall()\n",
    "result2 = cursor2.fetchall()"
   ]
  },
  {
   "cell_type": "code",
   "execution_count": null,
   "metadata": {},
   "outputs": [],
   "source": [
    "result"
   ]
  },
  {
   "cell_type": "code",
   "execution_count": null,
   "metadata": {},
   "outputs": [],
   "source": [
    "result2"
   ]
  },
  {
   "cell_type": "code",
   "execution_count": 12,
   "metadata": {},
   "outputs": [],
   "source": [
    "import pandas as pd"
   ]
  },
  {
   "cell_type": "code",
   "execution_count": 14,
   "metadata": {},
   "outputs": [
    {
     "data": {
      "text/html": [
       "<div>\n",
       "<style scoped>\n",
       "    .dataframe tbody tr th:only-of-type {\n",
       "        vertical-align: middle;\n",
       "    }\n",
       "\n",
       "    .dataframe tbody tr th {\n",
       "        vertical-align: top;\n",
       "    }\n",
       "\n",
       "    .dataframe thead th {\n",
       "        text-align: right;\n",
       "    }\n",
       "</style>\n",
       "<table border=\"1\" class=\"dataframe\">\n",
       "  <thead>\n",
       "    <tr style=\"text-align: right;\">\n",
       "      <th></th>\n",
       "      <th>crym</th>\n",
       "      <th>tco_btc_nm</th>\n",
       "      <th>ma_fem_dc</th>\n",
       "      <th>agegrp_dc</th>\n",
       "      <th>tco_btc_u_ct</th>\n",
       "      <th>tco_btc_u_am</th>\n",
       "    </tr>\n",
       "  </thead>\n",
       "  <tbody>\n",
       "    <tr>\n",
       "      <th>0</th>\n",
       "      <td>201901</td>\n",
       "      <td>백화점</td>\n",
       "      <td>1</td>\n",
       "      <td>1</td>\n",
       "      <td>1</td>\n",
       "      <td>7600</td>\n",
       "    </tr>\n",
       "    <tr>\n",
       "      <th>1</th>\n",
       "      <td>201901</td>\n",
       "      <td>백화점</td>\n",
       "      <td>1</td>\n",
       "      <td>10</td>\n",
       "      <td>379</td>\n",
       "      <td>19458720</td>\n",
       "    </tr>\n",
       "    <tr>\n",
       "      <th>2</th>\n",
       "      <td>201901</td>\n",
       "      <td>백화점</td>\n",
       "      <td>1</td>\n",
       "      <td>80</td>\n",
       "      <td>11198</td>\n",
       "      <td>1186133303</td>\n",
       "    </tr>\n",
       "    <tr>\n",
       "      <th>3</th>\n",
       "      <td>201901</td>\n",
       "      <td>백화점</td>\n",
       "      <td>1</td>\n",
       "      <td>90</td>\n",
       "      <td>468</td>\n",
       "      <td>29194852</td>\n",
       "    </tr>\n",
       "    <tr>\n",
       "      <th>4</th>\n",
       "      <td>201901</td>\n",
       "      <td>백화점</td>\n",
       "      <td>2</td>\n",
       "      <td>0</td>\n",
       "      <td>2</td>\n",
       "      <td>128200</td>\n",
       "    </tr>\n",
       "    <tr>\n",
       "      <th>...</th>\n",
       "      <td>...</td>\n",
       "      <td>...</td>\n",
       "      <td>...</td>\n",
       "      <td>...</td>\n",
       "      <td>...</td>\n",
       "      <td>...</td>\n",
       "    </tr>\n",
       "    <tr>\n",
       "      <th>1208</th>\n",
       "      <td>202109</td>\n",
       "      <td>편의점</td>\n",
       "      <td>2</td>\n",
       "      <td>10</td>\n",
       "      <td>2115</td>\n",
       "      <td>14879960</td>\n",
       "    </tr>\n",
       "    <tr>\n",
       "      <th>1209</th>\n",
       "      <td>202109</td>\n",
       "      <td>편의점</td>\n",
       "      <td>2</td>\n",
       "      <td>60</td>\n",
       "      <td>243768</td>\n",
       "      <td>1997441975</td>\n",
       "    </tr>\n",
       "    <tr>\n",
       "      <th>1210</th>\n",
       "      <td>202109</td>\n",
       "      <td>편의점</td>\n",
       "      <td>2</td>\n",
       "      <td>70</td>\n",
       "      <td>40523</td>\n",
       "      <td>352420260</td>\n",
       "    </tr>\n",
       "    <tr>\n",
       "      <th>1211</th>\n",
       "      <td>202109</td>\n",
       "      <td>편의점</td>\n",
       "      <td>2</td>\n",
       "      <td>80</td>\n",
       "      <td>6349</td>\n",
       "      <td>53334882</td>\n",
       "    </tr>\n",
       "    <tr>\n",
       "      <th>1212</th>\n",
       "      <td>202109</td>\n",
       "      <td>편의점</td>\n",
       "      <td>2</td>\n",
       "      <td>90</td>\n",
       "      <td>273</td>\n",
       "      <td>2619730</td>\n",
       "    </tr>\n",
       "  </tbody>\n",
       "</table>\n",
       "<p>1213 rows × 6 columns</p>\n",
       "</div>"
      ],
      "text/plain": [
       "        crym tco_btc_nm  ma_fem_dc  agegrp_dc  tco_btc_u_ct  tco_btc_u_am\n",
       "0     201901        백화점          1          1             1          7600\n",
       "1     201901        백화점          1         10           379      19458720\n",
       "2     201901        백화점          1         80         11198    1186133303\n",
       "3     201901        백화점          1         90           468      29194852\n",
       "4     201901        백화점          2          0             2        128200\n",
       "...      ...        ...        ...        ...           ...           ...\n",
       "1208  202109        편의점          2         10          2115      14879960\n",
       "1209  202109        편의점          2         60        243768    1997441975\n",
       "1210  202109        편의점          2         70         40523     352420260\n",
       "1211  202109        편의점          2         80          6349      53334882\n",
       "1212  202109        편의점          2         90           273       2619730\n",
       "\n",
       "[1213 rows x 6 columns]"
      ]
     },
     "execution_count": 14,
     "metadata": {},
     "output_type": "execute_result"
    }
   ],
   "source": [
    "pd.DataFrame(result2)"
   ]
  },
  {
   "cell_type": "markdown",
   "metadata": {},
   "source": [
    "### 문제 \n",
    "1. 데이터베이스에 있는 offline 테이블을 로드하여 데이터프레임으로 변환\n",
    "2. 데이터프레임의 컬럼의 이름을 변경 -> ['기준년월', '업종', '성별', '연령대', '총이용건수', '총이용금액']\n",
    "3. 기준년월 컬럼의 데이터의 타입을 시계열 데이터로 변경\n",
    "4. 데이터베이스에 있는 online 테이블을 로드하여 데이터프레임으로 변환\n",
    "5. 온라인 데이터프레임에 컬럼의 이름을 ['기준년월', '성별', '연령대', '총이용건수', '총이용금액'] 변경\n",
    "6. 파생변수('업종') 생성하여 데이터는 '온라인' 대입\n",
    "7. 온라인 데이터프레임의 기준년월 데이터 타입을 시계열로 변경\n",
    "7. 두개의 데이터프레임을 단순 행 결합 \n",
    "8. 기준년월, 업종 별로 그룹화 하여 총 이용금액의 합계를 출력하고 라인 그래프로 시각화"
   ]
  },
  {
   "cell_type": "markdown",
   "metadata": {},
   "source": []
  }
 ],
 "metadata": {
  "kernelspec": {
   "display_name": "Python 3",
   "language": "python",
   "name": "python3"
  },
  "language_info": {
   "codemirror_mode": {
    "name": "ipython",
    "version": 3
   },
   "file_extension": ".py",
   "mimetype": "text/x-python",
   "name": "python",
   "nbconvert_exporter": "python",
   "pygments_lexer": "ipython3",
   "version": "3.10.9"
  },
  "orig_nbformat": 4
 },
 "nbformat": 4,
 "nbformat_minor": 2
}
