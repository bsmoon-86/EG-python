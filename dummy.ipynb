{
 "cells": [
  {
   "cell_type": "code",
   "execution_count": null,
   "metadata": {},
   "outputs": [],
   "source": []
  },
  {
   "cell_type": "code",
   "execution_count": null,
   "metadata": {},
   "outputs": [],
   "source": [
    "# mysql 연동\n",
    "# ramdom 함수 -> 무작위 값, [1, 2, 3, 4, 5] 무작위의 위치값"
   ]
  },
  {
   "cell_type": "code",
   "execution_count": 1,
   "metadata": {},
   "outputs": [],
   "source": [
    "import random "
   ]
  },
  {
   "cell_type": "code",
   "execution_count": 10,
   "metadata": {},
   "outputs": [
    {
     "data": {
      "text/plain": [
       "'e'"
      ]
     },
     "execution_count": 10,
     "metadata": {},
     "output_type": "execute_result"
    }
   ],
   "source": [
    "_list = ['a', 'b', 'c', 'd', 'e']\n",
    "\n",
    "random.choice(_list)"
   ]
  },
  {
   "cell_type": "code",
   "execution_count": 11,
   "metadata": {},
   "outputs": [],
   "source": [
    "from datetime import datetime"
   ]
  },
  {
   "cell_type": "code",
   "execution_count": 80,
   "metadata": {},
   "outputs": [
    {
     "data": {
      "text/plain": [
       "[datetime.datetime(2021, 7, 30, 0, 0),\n",
       " datetime.datetime(2023, 3, 1, 0, 0),\n",
       " datetime.datetime(2022, 5, 6, 0, 0),\n",
       " datetime.datetime(2023, 10, 20, 0, 0),\n",
       " datetime.datetime(2022, 4, 6, 0, 0),\n",
       " datetime.datetime(2021, 10, 11, 0, 0),\n",
       " datetime.datetime(2021, 2, 25, 0, 0),\n",
       " datetime.datetime(2021, 4, 28, 0, 0),\n",
       " datetime.datetime(2020, 3, 2, 0, 0),\n",
       " datetime.datetime(2021, 5, 8, 0, 0),\n",
       " datetime.datetime(2020, 2, 29, 0, 0),\n",
       " datetime.datetime(2020, 6, 28, 0, 0),\n",
       " datetime.datetime(2020, 7, 9, 0, 0),\n",
       " datetime.datetime(2020, 9, 18, 0, 0),\n",
       " datetime.datetime(2021, 10, 27, 0, 0),\n",
       " datetime.datetime(2021, 11, 22, 0, 0),\n",
       " datetime.datetime(2020, 5, 3, 0, 0),\n",
       " datetime.datetime(2020, 11, 14, 0, 0),\n",
       " datetime.datetime(2021, 3, 4, 0, 0),\n",
       " datetime.datetime(2021, 5, 9, 0, 0),\n",
       " datetime.datetime(2023, 6, 3, 0, 0),\n",
       " datetime.datetime(2020, 3, 14, 0, 0),\n",
       " datetime.datetime(2021, 9, 27, 0, 0),\n",
       " datetime.datetime(2021, 11, 10, 0, 0),\n",
       " datetime.datetime(2022, 10, 15, 0, 0),\n",
       " datetime.datetime(2022, 10, 28, 0, 0),\n",
       " datetime.datetime(2020, 12, 7, 0, 0),\n",
       " datetime.datetime(2021, 8, 9, 0, 0),\n",
       " datetime.datetime(2022, 6, 8, 0, 0),\n",
       " datetime.datetime(2022, 4, 15, 0, 0),\n",
       " datetime.datetime(2022, 10, 16, 0, 0),\n",
       " datetime.datetime(2021, 11, 9, 0, 0),\n",
       " datetime.datetime(2021, 11, 23, 0, 0),\n",
       " datetime.datetime(2023, 3, 15, 0, 0),\n",
       " datetime.datetime(2023, 11, 16, 0, 0),\n",
       " datetime.datetime(2020, 3, 18, 0, 0),\n",
       " datetime.datetime(2022, 6, 26, 0, 0),\n",
       " datetime.datetime(2021, 1, 5, 0, 0),\n",
       " datetime.datetime(2020, 2, 3, 0, 0),\n",
       " datetime.datetime(2021, 11, 17, 0, 0),\n",
       " datetime.datetime(2020, 3, 22, 0, 0),\n",
       " datetime.datetime(2023, 5, 22, 0, 0),\n",
       " datetime.datetime(2022, 3, 18, 0, 0),\n",
       " datetime.datetime(2023, 5, 12, 0, 0),\n",
       " datetime.datetime(2022, 7, 25, 0, 0),\n",
       " datetime.datetime(2022, 11, 21, 0, 0),\n",
       " datetime.datetime(2022, 11, 2, 0, 0),\n",
       " datetime.datetime(2021, 2, 1, 0, 0),\n",
       " datetime.datetime(2020, 11, 21, 0, 0),\n",
       " datetime.datetime(2023, 10, 28, 0, 0),\n",
       " datetime.datetime(2020, 2, 29, 0, 0),\n",
       " datetime.datetime(2023, 11, 22, 0, 0),\n",
       " datetime.datetime(2023, 11, 28, 0, 0),\n",
       " datetime.datetime(2023, 6, 19, 0, 0),\n",
       " datetime.datetime(2021, 2, 28, 0, 0),\n",
       " datetime.datetime(2020, 5, 14, 0, 0),\n",
       " datetime.datetime(2020, 3, 11, 0, 0),\n",
       " datetime.datetime(2023, 6, 7, 0, 0),\n",
       " datetime.datetime(2022, 5, 18, 0, 0),\n",
       " datetime.datetime(2021, 8, 8, 0, 0),\n",
       " datetime.datetime(2021, 6, 19, 0, 0),\n",
       " datetime.datetime(2022, 7, 17, 0, 0),\n",
       " datetime.datetime(2023, 2, 20, 0, 0),\n",
       " datetime.datetime(2023, 6, 27, 0, 0),\n",
       " datetime.datetime(2021, 8, 21, 0, 0),\n",
       " datetime.datetime(2022, 9, 4, 0, 0),\n",
       " datetime.datetime(2021, 10, 24, 0, 0),\n",
       " datetime.datetime(2023, 11, 3, 0, 0),\n",
       " datetime.datetime(2022, 6, 10, 0, 0),\n",
       " datetime.datetime(2023, 2, 27, 0, 0),\n",
       " datetime.datetime(2022, 8, 12, 0, 0),\n",
       " datetime.datetime(2021, 2, 24, 0, 0),\n",
       " datetime.datetime(2020, 9, 9, 0, 0),\n",
       " datetime.datetime(2020, 8, 8, 0, 0),\n",
       " datetime.datetime(2020, 4, 5, 0, 0),\n",
       " datetime.datetime(2022, 7, 28, 0, 0),\n",
       " datetime.datetime(2020, 11, 26, 0, 0),\n",
       " datetime.datetime(2023, 5, 14, 0, 0),\n",
       " datetime.datetime(2020, 8, 15, 0, 0),\n",
       " datetime.datetime(2020, 1, 20, 0, 0),\n",
       " datetime.datetime(2021, 3, 10, 0, 0),\n",
       " datetime.datetime(2020, 5, 10, 0, 0),\n",
       " datetime.datetime(2020, 7, 25, 0, 0),\n",
       " datetime.datetime(2021, 10, 28, 0, 0),\n",
       " datetime.datetime(2021, 6, 19, 0, 0),\n",
       " datetime.datetime(2020, 2, 5, 0, 0),\n",
       " datetime.datetime(2023, 9, 23, 0, 0),\n",
       " datetime.datetime(2021, 8, 29, 0, 0),\n",
       " datetime.datetime(2020, 12, 6, 0, 0),\n",
       " datetime.datetime(2022, 11, 10, 0, 0),\n",
       " datetime.datetime(2022, 9, 6, 0, 0),\n",
       " datetime.datetime(2023, 4, 11, 0, 0),\n",
       " datetime.datetime(2020, 8, 23, 0, 0),\n",
       " datetime.datetime(2022, 12, 4, 0, 0),\n",
       " datetime.datetime(2020, 9, 11, 0, 0),\n",
       " datetime.datetime(2020, 5, 9, 0, 0),\n",
       " datetime.datetime(2022, 4, 5, 0, 0),\n",
       " datetime.datetime(2021, 4, 21, 0, 0),\n",
       " datetime.datetime(2020, 12, 6, 0, 0),\n",
       " datetime.datetime(2023, 11, 30, 0, 0)]"
      ]
     },
     "execution_count": 80,
     "metadata": {},
     "output_type": "execute_result"
    }
   ],
   "source": [
    "year = [2020, 2021, 2022, 2023]\n",
    "month = list(range(1, 12))\n",
    "day = list(range(1, 31))\n",
    "\n",
    "limit_list = {\n",
    "    '2020' : 100, \n",
    "    '2021' : 200, \n",
    "    '2022' : 300, \n",
    "    '2023' : 400\n",
    "}\n",
    "\n",
    "\n",
    "check_list = {\n",
    "    '2020' : 0, \n",
    "    '2021' : 0, \n",
    "    '2022' : 0, \n",
    "    '2023' : 0\n",
    "}\n",
    "\n",
    "_list = []\n",
    "_list2 = []\n",
    "\n",
    "for i in range(100000):\n",
    "\n",
    "    y = str(random.choice(year))\n",
    "    m = str(random.choice(month))\n",
    "    d = str(random.choice(day))\n",
    "\n",
    "    date = y + m + d\n",
    "    if (check_list[date[0:4]] < limit_list[date[0:4]] ):\n",
    "        try:\n",
    "            _list.append(datetime.strptime(date, '%Y%m%d'))\n",
    "            check_list[date[0:4]] += 1\n",
    "        except:\n",
    "            _list2.append(d)\n",
    "\n",
    "    if(len(_list) == 100):\n",
    "        break\n",
    "\n",
    "_list"
   ]
  },
  {
   "cell_type": "code",
   "execution_count": 23,
   "metadata": {},
   "outputs": [
    {
     "data": {
      "text/plain": [
       "10"
      ]
     },
     "execution_count": 23,
     "metadata": {},
     "output_type": "execute_result"
    }
   ],
   "source": [
    "len(_list)"
   ]
  },
  {
   "cell_type": "code",
   "execution_count": 79,
   "metadata": {},
   "outputs": [
    {
     "data": {
      "text/plain": [
       "['29', '30', '29', '29', '30', '30', '29', '30', '29']"
      ]
     },
     "execution_count": 79,
     "metadata": {},
     "output_type": "execute_result"
    }
   ],
   "source": [
    "_list2"
   ]
  },
  {
   "cell_type": "code",
   "execution_count": 43,
   "metadata": {},
   "outputs": [
    {
     "data": {
      "text/plain": [
       "[datetime.datetime(2020, 8, 14, 0, 0),\n",
       " datetime.datetime(2021, 3, 6, 0, 0),\n",
       " datetime.datetime(2023, 5, 1, 0, 0),\n",
       " datetime.datetime(2021, 3, 13, 0, 0),\n",
       " datetime.datetime(2023, 5, 8, 0, 0),\n",
       " datetime.datetime(2022, 3, 6, 0, 0),\n",
       " datetime.datetime(2023, 10, 16, 0, 0),\n",
       " datetime.datetime(2022, 6, 9, 0, 0),\n",
       " datetime.datetime(2023, 7, 2, 0, 0),\n",
       " datetime.datetime(2022, 11, 25, 0, 0)]"
      ]
     },
     "execution_count": 43,
     "metadata": {},
     "output_type": "execute_result"
    }
   ],
   "source": [
    "_list"
   ]
  },
  {
   "cell_type": "code",
   "execution_count": 41,
   "metadata": {},
   "outputs": [],
   "source": [
    "import pandas as pd"
   ]
  },
  {
   "cell_type": "code",
   "execution_count": 45,
   "metadata": {},
   "outputs": [],
   "source": [
    "data = {\n",
    "    'time' : _list\n",
    "}\n",
    "\n",
    "pd.DataFrame(data).to_excel('sample.xlsx')"
   ]
  },
  {
   "cell_type": "code",
   "execution_count": 21,
   "metadata": {},
   "outputs": [
    {
     "data": {
      "text/plain": [
       "{'2020': 11, '2021': 6, '2022': 4, '2023': 21}"
      ]
     },
     "execution_count": 21,
     "metadata": {},
     "output_type": "execute_result"
    }
   ],
   "source": [
    "check_list"
   ]
  },
  {
   "cell_type": "code",
   "execution_count": 25,
   "metadata": {},
   "outputs": [],
   "source": [
    "import string \n",
    "import random"
   ]
  },
  {
   "cell_type": "code",
   "execution_count": 40,
   "metadata": {},
   "outputs": [
    {
     "name": "stdout",
     "output_type": "stream",
     "text": [
      "1sn2a6odj7\n"
     ]
    }
   ],
   "source": [
    "letter_set = string.ascii_lowercase + '1234567890'\n",
    "\n",
    "random_data = random.sample(letter_set, 10)\n",
    "\n",
    "data = \"\".join(random_data)\n",
    "print(data)"
   ]
  },
  {
   "cell_type": "code",
   "execution_count": 39,
   "metadata": {},
   "outputs": [
    {
     "data": {
      "text/plain": [
       "'abcdefghijklmnopqrstuvwxyz1234567890'"
      ]
     },
     "execution_count": 39,
     "metadata": {},
     "output_type": "execute_result"
    }
   ],
   "source": [
    "letter_set + '1234567890'"
   ]
  },
  {
   "cell_type": "code",
   "execution_count": 81,
   "metadata": {},
   "outputs": [],
   "source": [
    "text_length = range(4,10)\n",
    "email = ['@naver.com', '@gmail.com', '@hanmail.net', '@yahoo.com']\n",
    "\n",
    "email_list = []\n",
    "for i in range(1000000):\n",
    "    if(len(email_list) == 100):\n",
    "        break\n",
    "        \n",
    "    random_data = random.sample(letter_set, random.choice(text_length))\n",
    "\n",
    "    data = \"\".join(random_data) + random.choice(email)\n",
    "\n",
    "    if (data not in email_list):\n",
    "        email_list.append(data)"
   ]
  },
  {
   "cell_type": "code",
   "execution_count": 82,
   "metadata": {},
   "outputs": [
    {
     "data": {
      "text/plain": [
       "['1ou80@yahoo.com',\n",
       " 'n7q8j9w@hanmail.net',\n",
       " '62v5@yahoo.com',\n",
       " '7eod@yahoo.com',\n",
       " 'ny4jp@gmail.com',\n",
       " 'p12bjr4u@hanmail.net',\n",
       " 'zmlp3f7@yahoo.com',\n",
       " 's7h0@naver.com',\n",
       " 'iq2aejm@naver.com',\n",
       " 'mfs9gq@gmail.com',\n",
       " '4x0y@naver.com',\n",
       " 'l8d5zw@gmail.com',\n",
       " 'pzuxe@yahoo.com',\n",
       " 'ihzcmxvk2@yahoo.com',\n",
       " '483ry9@yahoo.com',\n",
       " 'gzqtj@naver.com',\n",
       " 'ugvm@naver.com',\n",
       " 'got3cp1x@hanmail.net',\n",
       " 'yce4@hanmail.net',\n",
       " 'rd7ywtg1@yahoo.com',\n",
       " '9vkr@yahoo.com',\n",
       " '47bse@hanmail.net',\n",
       " '2erojbtus@naver.com',\n",
       " '0xfdojan@gmail.com',\n",
       " 'pjk51v2r@hanmail.net',\n",
       " 'p8olf@hanmail.net',\n",
       " '85cdx0fey@naver.com',\n",
       " 'k6rtly@naver.com',\n",
       " 'ymdv@naver.com',\n",
       " 'okmv5i0rb@hanmail.net',\n",
       " '6l8kf@naver.com',\n",
       " 'wc4yz@yahoo.com',\n",
       " '3ktb4yv@gmail.com',\n",
       " 'lvrn@hanmail.net',\n",
       " 'ysx8k2tag@hanmail.net',\n",
       " '17rbjhm@yahoo.com',\n",
       " 'c68dhsn@gmail.com',\n",
       " 'cmfaqbk9i@gmail.com',\n",
       " 'flsq@hanmail.net',\n",
       " 'woztj@yahoo.com',\n",
       " 'uze0v4@naver.com',\n",
       " 'cvbs@gmail.com',\n",
       " 'q3h4p@gmail.com',\n",
       " 'fp3q@hanmail.net',\n",
       " 'bca697@gmail.com',\n",
       " '2p8br@yahoo.com',\n",
       " 'tnfrm16@hanmail.net',\n",
       " 'hwq7yr@hanmail.net',\n",
       " '8y1c@gmail.com',\n",
       " 'yl53@gmail.com',\n",
       " 'nwxzp@yahoo.com',\n",
       " 'qb53@yahoo.com',\n",
       " 'pbsae253t@yahoo.com',\n",
       " 'byier@gmail.com',\n",
       " '73fupv@hanmail.net',\n",
       " 'j2au@hanmail.net',\n",
       " 'q24zs80@hanmail.net',\n",
       " 'vn67@gmail.com',\n",
       " '5js4v@gmail.com',\n",
       " 't4h3j@gmail.com',\n",
       " 'xyz29@hanmail.net',\n",
       " '90cr1x4@hanmail.net',\n",
       " 'ozqtwu0mf@yahoo.com',\n",
       " 'l2ocd@naver.com',\n",
       " 'qs69uf8@gmail.com',\n",
       " 'pzswo7@naver.com',\n",
       " 'hosp0y2@yahoo.com',\n",
       " 'jlr6w5bz@gmail.com',\n",
       " 'fchg89u7p@yahoo.com',\n",
       " 'ofa29ck@hanmail.net',\n",
       " 'kemzp2@naver.com',\n",
       " 'egah@yahoo.com',\n",
       " '7y3c1nkb@hanmail.net',\n",
       " 'pr5gz@gmail.com',\n",
       " 'wz8vn9@hanmail.net',\n",
       " 'vg0xqao@hanmail.net',\n",
       " 'xwnti3bm@naver.com',\n",
       " '3tkx@yahoo.com',\n",
       " '0w75hc4@gmail.com',\n",
       " 'r1i6c043z@naver.com',\n",
       " '9osh@gmail.com',\n",
       " 's5kv79x@gmail.com',\n",
       " 'pszqm@hanmail.net',\n",
       " 'yzovad9l4@gmail.com',\n",
       " 'hvzpg0@gmail.com',\n",
       " '6psmu@naver.com',\n",
       " 'k3y8@gmail.com',\n",
       " 'hkbv9mtxn@hanmail.net',\n",
       " 'gvuqrc84@yahoo.com',\n",
       " 'iwoc9xy@naver.com',\n",
       " 'dob08hv3i@yahoo.com',\n",
       " 'zd36tn@naver.com',\n",
       " 'f5deh@yahoo.com',\n",
       " '2htjap1@gmail.com',\n",
       " 'pfg2@gmail.com',\n",
       " '6pwoq1@gmail.com',\n",
       " 'bi1dvopj@hanmail.net',\n",
       " '81z5d@naver.com',\n",
       " 'uokv6m@yahoo.com',\n",
       " 'g3mfnz@yahoo.com']"
      ]
     },
     "execution_count": 82,
     "metadata": {},
     "output_type": "execute_result"
    }
   ],
   "source": [
    "email_list"
   ]
  },
  {
   "cell_type": "code",
   "execution_count": 83,
   "metadata": {},
   "outputs": [],
   "source": [
    "import pymysql"
   ]
  },
  {
   "cell_type": "code",
   "execution_count": 85,
   "metadata": {},
   "outputs": [],
   "source": [
    "_db = pymysql.connect(\n",
    "    host = 'localhost', \n",
    "    user = 'root', \n",
    "    password = 'java', \n",
    "    db = 'os', \n",
    "    port = 3306\n",
    ")"
   ]
  },
  {
   "cell_type": "code",
   "execution_count": 86,
   "metadata": {},
   "outputs": [],
   "source": [
    "cursor = _db.cursor(pymysql.cursors.DictCursor)"
   ]
  },
  {
   "cell_type": "code",
   "execution_count": 87,
   "metadata": {},
   "outputs": [],
   "source": [
    "sql = \"\"\"\n",
    "    INSERT \n",
    "    INTO \n",
    "    dummy\n",
    "    VALUES\n",
    "    (%s, %s)\n",
    "\"\"\"\n",
    "\n",
    "for i in range(100):\n",
    "    cursor.execute(sql, [email_list[i], _list[i]] )\n",
    "\n",
    "_db.commit()\n"
   ]
  },
  {
   "cell_type": "code",
   "execution_count": 89,
   "metadata": {},
   "outputs": [
    {
     "name": "stdout",
     "output_type": "stream",
     "text": [
      "Collecting passlib\n",
      "  Using cached passlib-1.7.4-py2.py3-none-any.whl (525 kB)\n",
      "Installing collected packages: passlib\n",
      "Successfully installed passlib-1.7.4\n"
     ]
    },
    {
     "name": "stderr",
     "output_type": "stream",
     "text": [
      "\n",
      "[notice] A new release of pip available: 22.3.1 -> 23.2.1\n",
      "[notice] To update, run: python.exe -m pip install --upgrade pip\n"
     ]
    }
   ],
   "source": [
    "!pip install passlib"
   ]
  },
  {
   "cell_type": "code",
   "execution_count": 91,
   "metadata": {},
   "outputs": [],
   "source": [
    "from passlib.hash import pbkdf2_sha256"
   ]
  },
  {
   "cell_type": "code",
   "execution_count": 92,
   "metadata": {},
   "outputs": [],
   "source": [
    "data = {\n",
    "    'user_name' : ['test', 'test2', 'test3'] , \n",
    "    'email': ['a', 'b', 'c'], \n",
    "    'password':['1234', '5678', '1111'], \n",
    "    'phone': ['01011111111', '01012345678' , '01098765432']\n",
    "}\n",
    "\n",
    "df = pd.DataFrame(data)"
   ]
  },
  {
   "cell_type": "code",
   "execution_count": 93,
   "metadata": {},
   "outputs": [
    {
     "data": {
      "text/html": [
       "<div>\n",
       "<style scoped>\n",
       "    .dataframe tbody tr th:only-of-type {\n",
       "        vertical-align: middle;\n",
       "    }\n",
       "\n",
       "    .dataframe tbody tr th {\n",
       "        vertical-align: top;\n",
       "    }\n",
       "\n",
       "    .dataframe thead th {\n",
       "        text-align: right;\n",
       "    }\n",
       "</style>\n",
       "<table border=\"1\" class=\"dataframe\">\n",
       "  <thead>\n",
       "    <tr style=\"text-align: right;\">\n",
       "      <th></th>\n",
       "      <th>user_name</th>\n",
       "      <th>email</th>\n",
       "      <th>password</th>\n",
       "      <th>phone</th>\n",
       "    </tr>\n",
       "  </thead>\n",
       "  <tbody>\n",
       "    <tr>\n",
       "      <th>0</th>\n",
       "      <td>test</td>\n",
       "      <td>a</td>\n",
       "      <td>1234</td>\n",
       "      <td>01011111111</td>\n",
       "    </tr>\n",
       "    <tr>\n",
       "      <th>1</th>\n",
       "      <td>test2</td>\n",
       "      <td>b</td>\n",
       "      <td>5678</td>\n",
       "      <td>01012345678</td>\n",
       "    </tr>\n",
       "    <tr>\n",
       "      <th>2</th>\n",
       "      <td>test3</td>\n",
       "      <td>c</td>\n",
       "      <td>1111</td>\n",
       "      <td>01098765432</td>\n",
       "    </tr>\n",
       "  </tbody>\n",
       "</table>\n",
       "</div>"
      ],
      "text/plain": [
       "  user_name email password        phone\n",
       "0      test     a     1234  01011111111\n",
       "1     test2     b     5678  01012345678\n",
       "2     test3     c     1111  01098765432"
      ]
     },
     "execution_count": 93,
     "metadata": {},
     "output_type": "execute_result"
    }
   ],
   "source": [
    "df"
   ]
  },
  {
   "cell_type": "code",
   "execution_count": 95,
   "metadata": {},
   "outputs": [
    {
     "data": {
      "text/plain": [
       "'$pbkdf2-sha256$29000$orTWOseYsxai9P7/HwNACA$ibFuQ5W0Z.LdHLjaA4UZCeEKZZVHIV0rjxz8/0aMoPQ'"
      ]
     },
     "execution_count": 95,
     "metadata": {},
     "output_type": "execute_result"
    }
   ],
   "source": [
    "s = 'eungok'\n",
    "\n",
    "a = '1234'\n",
    "\n",
    "pbkdf2_sha256.hash(a + s)"
   ]
  },
  {
   "cell_type": "code",
   "execution_count": 99,
   "metadata": {},
   "outputs": [],
   "source": [
    "df2 = df.copy()"
   ]
  },
  {
   "cell_type": "code",
   "execution_count": 100,
   "metadata": {},
   "outputs": [
    {
     "data": {
      "text/html": [
       "<div>\n",
       "<style scoped>\n",
       "    .dataframe tbody tr th:only-of-type {\n",
       "        vertical-align: middle;\n",
       "    }\n",
       "\n",
       "    .dataframe tbody tr th {\n",
       "        vertical-align: top;\n",
       "    }\n",
       "\n",
       "    .dataframe thead th {\n",
       "        text-align: right;\n",
       "    }\n",
       "</style>\n",
       "<table border=\"1\" class=\"dataframe\">\n",
       "  <thead>\n",
       "    <tr style=\"text-align: right;\">\n",
       "      <th></th>\n",
       "      <th>user_name</th>\n",
       "      <th>email</th>\n",
       "      <th>password</th>\n",
       "      <th>phone</th>\n",
       "    </tr>\n",
       "  </thead>\n",
       "  <tbody>\n",
       "    <tr>\n",
       "      <th>0</th>\n",
       "      <td>test</td>\n",
       "      <td>a</td>\n",
       "      <td>$pbkdf2-sha256$29000$/R9DqBUCYIyxdi4lpBQCgA$w3...</td>\n",
       "      <td>01011111111</td>\n",
       "    </tr>\n",
       "    <tr>\n",
       "      <th>1</th>\n",
       "      <td>test2</td>\n",
       "      <td>b</td>\n",
       "      <td>$pbkdf2-sha256$29000$d04JoXSO8T6HMEZoLUWoVQ$hI...</td>\n",
       "      <td>01012345678</td>\n",
       "    </tr>\n",
       "    <tr>\n",
       "      <th>2</th>\n",
       "      <td>test3</td>\n",
       "      <td>c</td>\n",
       "      <td>$pbkdf2-sha256$29000$zBnj3DvnHCMEoHSuVWqt9Q$YC...</td>\n",
       "      <td>01098765432</td>\n",
       "    </tr>\n",
       "  </tbody>\n",
       "</table>\n",
       "</div>"
      ],
      "text/plain": [
       "  user_name email                                           password  \\\n",
       "0      test     a  $pbkdf2-sha256$29000$/R9DqBUCYIyxdi4lpBQCgA$w3...   \n",
       "1     test2     b  $pbkdf2-sha256$29000$d04JoXSO8T6HMEZoLUWoVQ$hI...   \n",
       "2     test3     c  $pbkdf2-sha256$29000$zBnj3DvnHCMEoHSuVWqt9Q$YC...   \n",
       "\n",
       "         phone  \n",
       "0  01011111111  \n",
       "1  01012345678  \n",
       "2  01098765432  "
      ]
     },
     "execution_count": 100,
     "metadata": {},
     "output_type": "execute_result"
    }
   ],
   "source": [
    "for i in range(len(df)):\n",
    "    password = df.loc[i, 'password']\n",
    "    df.loc[i, 'password'] = pbkdf2_sha256.hash(password + 'eungok')\n",
    "\n",
    "df"
   ]
  },
  {
   "cell_type": "code",
   "execution_count": 103,
   "metadata": {},
   "outputs": [],
   "source": [
    "df2['password'] = df2['password'].apply(\n",
    "    lambda x : pbkdf2_sha256.hash(x + 'eungok')\n",
    ")"
   ]
  },
  {
   "cell_type": "code",
   "execution_count": 108,
   "metadata": {},
   "outputs": [
    {
     "data": {
      "text/plain": [
       "['test2',\n",
       " 'b',\n",
       " '$pbkdf2-sha256$29000$AKCUkvK.N.acEwLgfO8dww$ZzFBeE16lmPSXXCc.93mKoXjiUT7vQmtqQOSj7B.nS8',\n",
       " '01012345678']"
      ]
     },
     "execution_count": 108,
     "metadata": {},
     "output_type": "execute_result"
    }
   ],
   "source": [
    "df2.loc[1].tolist()"
   ]
  },
  {
   "cell_type": "code",
   "execution_count": 110,
   "metadata": {},
   "outputs": [],
   "source": [
    "sql = \"\"\"\n",
    "    INSERT \n",
    "    INTO \n",
    "    user2\n",
    "    VALUES\n",
    "    (%s, %s, %s, %s)\n",
    "\"\"\"\n",
    "\n",
    "for i in range(len(df2)):\n",
    "    value = df2.loc[i].tolist()\n",
    "\n",
    "    cursor.execute(sql, value)\n",
    "\n",
    "\n",
    "_db.commit()\n"
   ]
  },
  {
   "cell_type": "code",
   "execution_count": 111,
   "metadata": {},
   "outputs": [
    {
     "data": {
      "text/plain": [
       "str"
      ]
     },
     "execution_count": 111,
     "metadata": {},
     "output_type": "execute_result"
    }
   ],
   "source": [
    "a  = '[\"a\", \"b\"]'\n",
    "type(a)"
   ]
  },
  {
   "cell_type": "code",
   "execution_count": 113,
   "metadata": {},
   "outputs": [
    {
     "data": {
      "text/plain": [
       "list"
      ]
     },
     "execution_count": 113,
     "metadata": {},
     "output_type": "execute_result"
    }
   ],
   "source": [
    "type(eval(a))"
   ]
  }
 ],
 "metadata": {
  "kernelspec": {
   "display_name": "Python 3",
   "language": "python",
   "name": "python3"
  },
  "language_info": {
   "codemirror_mode": {
    "name": "ipython",
    "version": 3
   },
   "file_extension": ".py",
   "mimetype": "text/x-python",
   "name": "python",
   "nbconvert_exporter": "python",
   "pygments_lexer": "ipython3",
   "version": "3.10.9"
  },
  "orig_nbformat": 4
 },
 "nbformat": 4,
 "nbformat_minor": 2
}
