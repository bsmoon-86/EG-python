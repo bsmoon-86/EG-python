{
 "cells": [
  {
   "cell_type": "code",
   "execution_count": 1,
   "metadata": {},
   "outputs": [],
   "source": [
    "import pymysql \n",
    "import random\n",
    "import string"
   ]
  },
  {
   "cell_type": "code",
   "execution_count": 2,
   "metadata": {},
   "outputs": [],
   "source": [
    "_db = pymysql.connect(\n",
    "    host = 'localhost', \n",
    "    port = 3306, \n",
    "    user = 'root', \n",
    "    password = 'java', \n",
    "    db = 'os'\n",
    ")\n",
    "cursor = _db.cursor(pymysql.cursors.DictCursor)"
   ]
  },
  {
   "cell_type": "code",
   "execution_count": 3,
   "metadata": {},
   "outputs": [
    {
     "data": {
      "text/plain": [
       "'abcdefghijklmnopqrstuvwxyz'"
      ]
     },
     "execution_count": 3,
     "metadata": {},
     "output_type": "execute_result"
    }
   ],
   "source": [
    "letter_set = string.ascii_lowercase\n",
    "letter_set"
   ]
  },
  {
   "cell_type": "code",
   "execution_count": 6,
   "metadata": {},
   "outputs": [],
   "source": [
    "name_list = []\n",
    "for i in range(200):\n",
    "    random_data = random.sample(letter_set, 5)\n",
    "    data =  \"\".join(random_data)\n",
    "    if data not in name_list:\n",
    "        name_list.append(data)\n",
    "    # 길이가 50이 되면 반복문을 종료\n",
    "    if len(name_list) == 50:\n",
    "        break"
   ]
  },
  {
   "cell_type": "code",
   "execution_count": 7,
   "metadata": {},
   "outputs": [
    {
     "data": {
      "text/plain": [
       "50"
      ]
     },
     "execution_count": 7,
     "metadata": {},
     "output_type": "execute_result"
    }
   ],
   "source": [
    "len(name_list)"
   ]
  },
  {
   "cell_type": "code",
   "execution_count": 9,
   "metadata": {},
   "outputs": [],
   "source": [
    "addr = ['강북', '강남', '강동', '강서'] \n",
    "addr_list = []\n",
    "for i in range(50):\n",
    "    data = random.choice(addr)\n",
    "    addr_list.append(data)"
   ]
  },
  {
   "cell_type": "code",
   "execution_count": 10,
   "metadata": {},
   "outputs": [
    {
     "data": {
      "text/plain": [
       "50"
      ]
     },
     "execution_count": 10,
     "metadata": {},
     "output_type": "execute_result"
    }
   ],
   "source": [
    "len(addr_list)"
   ]
  },
  {
   "cell_type": "code",
   "execution_count": 11,
   "metadata": {},
   "outputs": [],
   "source": [
    "cate = [0, 1, 2]\n",
    "cate_list = []\n",
    "for i in range(50):\n",
    "    data = random.choice(cate)\n",
    "    cate_list.append(data)"
   ]
  },
  {
   "cell_type": "code",
   "execution_count": 13,
   "metadata": {},
   "outputs": [],
   "source": [
    "letter_set2 = '1234567890'\n",
    "tel_list = []\n",
    "for i in range(50):\n",
    "    random_data1 = random.sample(letter_set2, 4)\n",
    "    random_data2 = random.sample(letter_set2, 4)\n",
    "    data1 = \"\".join(random_data1)\n",
    "    data2 = \"\".join(random_data2)\n",
    "    data = '010-'+data1+\"-\"+data2\n",
    "    tel_list.append(data)"
   ]
  },
  {
   "cell_type": "code",
   "execution_count": 14,
   "metadata": {},
   "outputs": [
    {
     "data": {
      "text/plain": [
       "['010-3529-9182',\n",
       " '010-0753-7412',\n",
       " '010-3094-3085',\n",
       " '010-9508-2847',\n",
       " '010-7983-1490',\n",
       " '010-2806-6785',\n",
       " '010-6123-1357',\n",
       " '010-0439-7904',\n",
       " '010-8401-1938',\n",
       " '010-6579-3721',\n",
       " '010-4075-1307',\n",
       " '010-6859-7620',\n",
       " '010-3697-9128',\n",
       " '010-8147-2419',\n",
       " '010-4876-4068',\n",
       " '010-6435-3207',\n",
       " '010-9207-6710',\n",
       " '010-3176-9405',\n",
       " '010-0638-9485',\n",
       " '010-8610-1457',\n",
       " '010-4291-8415',\n",
       " '010-6142-2195',\n",
       " '010-0629-6945',\n",
       " '010-3892-7302',\n",
       " '010-5287-2986',\n",
       " '010-3192-8250',\n",
       " '010-4618-2984',\n",
       " '010-8439-5287',\n",
       " '010-2483-2978',\n",
       " '010-2836-7291',\n",
       " '010-5076-8157',\n",
       " '010-5860-4670',\n",
       " '010-2690-2753',\n",
       " '010-8467-3267',\n",
       " '010-6914-0721',\n",
       " '010-9241-1892',\n",
       " '010-5962-6043',\n",
       " '010-8941-7832',\n",
       " '010-2314-0294',\n",
       " '010-3508-2869',\n",
       " '010-6149-8910',\n",
       " '010-0621-4973',\n",
       " '010-2970-3897',\n",
       " '010-4690-3154',\n",
       " '010-2861-7502',\n",
       " '010-6958-4328',\n",
       " '010-2987-5012',\n",
       " '010-7918-9053',\n",
       " '010-9806-7354',\n",
       " '010-2891-2796']"
      ]
     },
     "execution_count": 14,
     "metadata": {},
     "output_type": "execute_result"
    }
   ],
   "source": [
    "tel_list"
   ]
  },
  {
   "cell_type": "code",
   "execution_count": 15,
   "metadata": {},
   "outputs": [],
   "source": [
    "sql = \"\"\"\n",
    "    INSERT \n",
    "    INTO \n",
    "    studio \n",
    "    VALUES \n",
    "    (%s, %s, %s, %s)\n",
    "\"\"\"\n",
    "\n",
    "for i in range(50):\n",
    "    value = [name_list[i], addr_list[i], tel_list[i], cate_list[i]]\n",
    "    cursor.execute(sql, value)\n",
    "_db.commit()"
   ]
  }
 ],
 "metadata": {
  "kernelspec": {
   "display_name": "Python 3",
   "language": "python",
   "name": "python3"
  },
  "language_info": {
   "codemirror_mode": {
    "name": "ipython",
    "version": 3
   },
   "file_extension": ".py",
   "mimetype": "text/x-python",
   "name": "python",
   "nbconvert_exporter": "python",
   "pygments_lexer": "ipython3",
   "version": "3.10.9"
  },
  "orig_nbformat": 4
 },
 "nbformat": 4,
 "nbformat_minor": 2
}
